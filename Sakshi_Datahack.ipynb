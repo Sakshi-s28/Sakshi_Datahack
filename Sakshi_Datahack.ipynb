{
 "cells": [
  {
   "cell_type": "code",
   "execution_count": 1,
   "id": "4f0cb2f0",
   "metadata": {},
   "outputs": [],
   "source": [
    "import pandas as pd\n",
    "import numpy as np"
   ]
  },
  {
   "cell_type": "code",
   "execution_count": 2,
   "id": "86a6a98d",
   "metadata": {},
   "outputs": [],
   "source": [
    "from sklearn.linear_model import LogisticRegression\n",
    "from sklearn.preprocessing import StandardScaler\n",
    "from sklearn.metrics import roc_curve, roc_auc_score\n",
    "\n",
    "RANDOM_SEED = 6"
   ]
  },
  {
   "cell_type": "code",
   "execution_count": 73,
   "id": "4a3d3338",
   "metadata": {},
   "outputs": [],
   "source": [
    "import matplotlib\n",
    "import matplotlib.pyplot as plt\n",
    "import seaborn as sns\n",
    "import plotly.express as px\n",
    "%matplotlib inline\n",
    "train_features = pd.read_csv(\"training_set_features.csv\")"
   ]
  },
  {
   "cell_type": "code",
   "execution_count": 4,
   "id": "df4cbee1",
   "metadata": {},
   "outputs": [],
   "source": [
    "test_df = pd.read_csv(\"test_set_features.csv\")\n",
    "\n",
    "train_label = pd.read_csv(\"training_set_labels.csv\")"
   ]
  },
  {
   "cell_type": "code",
   "execution_count": 74,
   "id": "7289394a",
   "metadata": {},
   "outputs": [
    {
     "data": {
      "text/html": [
       "<div>\n",
       "<style scoped>\n",
       "    .dataframe tbody tr th:only-of-type {\n",
       "        vertical-align: middle;\n",
       "    }\n",
       "\n",
       "    .dataframe tbody tr th {\n",
       "        vertical-align: top;\n",
       "    }\n",
       "\n",
       "    .dataframe thead th {\n",
       "        text-align: right;\n",
       "    }\n",
       "</style>\n",
       "<table border=\"1\" class=\"dataframe\">\n",
       "  <thead>\n",
       "    <tr style=\"text-align: right;\">\n",
       "      <th></th>\n",
       "      <th>xyz_concern</th>\n",
       "      <th>xyz_knowledge</th>\n",
       "      <th>behavioral_antiviral_meds</th>\n",
       "      <th>behavioral_avoidance</th>\n",
       "      <th>behavioral_face_mask</th>\n",
       "      <th>behavioral_wash_hands</th>\n",
       "      <th>behavioral_large_gatherings</th>\n",
       "      <th>behavioral_outside_home</th>\n",
       "      <th>behavioral_touch_face</th>\n",
       "      <th>doctor_recc_xyz</th>\n",
       "      <th>...</th>\n",
       "      <th>income_poverty</th>\n",
       "      <th>marital_status</th>\n",
       "      <th>rent_or_own</th>\n",
       "      <th>employment_status</th>\n",
       "      <th>hhs_geo_region</th>\n",
       "      <th>census_msa</th>\n",
       "      <th>household_adults</th>\n",
       "      <th>household_children</th>\n",
       "      <th>employment_industry</th>\n",
       "      <th>employment_occupation</th>\n",
       "    </tr>\n",
       "  </thead>\n",
       "  <tbody>\n",
       "    <tr>\n",
       "      <th>0</th>\n",
       "      <td>1.0</td>\n",
       "      <td>0.0</td>\n",
       "      <td>0.0</td>\n",
       "      <td>0.0</td>\n",
       "      <td>0.0</td>\n",
       "      <td>0.0</td>\n",
       "      <td>0.0</td>\n",
       "      <td>1.0</td>\n",
       "      <td>1.0</td>\n",
       "      <td>0.0</td>\n",
       "      <td>...</td>\n",
       "      <td>Below Poverty</td>\n",
       "      <td>Not Married</td>\n",
       "      <td>Own</td>\n",
       "      <td>Not in Labor Force</td>\n",
       "      <td>oxchjgsf</td>\n",
       "      <td>Non-MSA</td>\n",
       "      <td>0.0</td>\n",
       "      <td>0.0</td>\n",
       "      <td>NaN</td>\n",
       "      <td>NaN</td>\n",
       "    </tr>\n",
       "    <tr>\n",
       "      <th>1</th>\n",
       "      <td>3.0</td>\n",
       "      <td>2.0</td>\n",
       "      <td>0.0</td>\n",
       "      <td>1.0</td>\n",
       "      <td>0.0</td>\n",
       "      <td>1.0</td>\n",
       "      <td>0.0</td>\n",
       "      <td>1.0</td>\n",
       "      <td>1.0</td>\n",
       "      <td>0.0</td>\n",
       "      <td>...</td>\n",
       "      <td>Below Poverty</td>\n",
       "      <td>Not Married</td>\n",
       "      <td>Rent</td>\n",
       "      <td>Employed</td>\n",
       "      <td>bhuqouqj</td>\n",
       "      <td>MSA, Not Principle  City</td>\n",
       "      <td>0.0</td>\n",
       "      <td>0.0</td>\n",
       "      <td>pxcmvdjn</td>\n",
       "      <td>xgwztkwe</td>\n",
       "    </tr>\n",
       "    <tr>\n",
       "      <th>2</th>\n",
       "      <td>1.0</td>\n",
       "      <td>1.0</td>\n",
       "      <td>0.0</td>\n",
       "      <td>1.0</td>\n",
       "      <td>0.0</td>\n",
       "      <td>0.0</td>\n",
       "      <td>0.0</td>\n",
       "      <td>0.0</td>\n",
       "      <td>0.0</td>\n",
       "      <td>NaN</td>\n",
       "      <td>...</td>\n",
       "      <td>&lt;= $75,000, Above Poverty</td>\n",
       "      <td>Not Married</td>\n",
       "      <td>Own</td>\n",
       "      <td>Employed</td>\n",
       "      <td>qufhixun</td>\n",
       "      <td>MSA, Not Principle  City</td>\n",
       "      <td>2.0</td>\n",
       "      <td>0.0</td>\n",
       "      <td>rucpziij</td>\n",
       "      <td>xtkaffoo</td>\n",
       "    </tr>\n",
       "    <tr>\n",
       "      <th>3</th>\n",
       "      <td>1.0</td>\n",
       "      <td>1.0</td>\n",
       "      <td>0.0</td>\n",
       "      <td>1.0</td>\n",
       "      <td>0.0</td>\n",
       "      <td>1.0</td>\n",
       "      <td>1.0</td>\n",
       "      <td>0.0</td>\n",
       "      <td>0.0</td>\n",
       "      <td>0.0</td>\n",
       "      <td>...</td>\n",
       "      <td>Below Poverty</td>\n",
       "      <td>Not Married</td>\n",
       "      <td>Rent</td>\n",
       "      <td>Not in Labor Force</td>\n",
       "      <td>lrircsnp</td>\n",
       "      <td>MSA, Principle City</td>\n",
       "      <td>0.0</td>\n",
       "      <td>0.0</td>\n",
       "      <td>NaN</td>\n",
       "      <td>NaN</td>\n",
       "    </tr>\n",
       "    <tr>\n",
       "      <th>4</th>\n",
       "      <td>2.0</td>\n",
       "      <td>1.0</td>\n",
       "      <td>0.0</td>\n",
       "      <td>1.0</td>\n",
       "      <td>0.0</td>\n",
       "      <td>1.0</td>\n",
       "      <td>1.0</td>\n",
       "      <td>0.0</td>\n",
       "      <td>1.0</td>\n",
       "      <td>0.0</td>\n",
       "      <td>...</td>\n",
       "      <td>&lt;= $75,000, Above Poverty</td>\n",
       "      <td>Married</td>\n",
       "      <td>Own</td>\n",
       "      <td>Employed</td>\n",
       "      <td>qufhixun</td>\n",
       "      <td>MSA, Not Principle  City</td>\n",
       "      <td>1.0</td>\n",
       "      <td>0.0</td>\n",
       "      <td>wxleyezf</td>\n",
       "      <td>emcorrxb</td>\n",
       "    </tr>\n",
       "  </tbody>\n",
       "</table>\n",
       "<p>5 rows × 35 columns</p>\n",
       "</div>"
      ],
      "text/plain": [
       "   xyz_concern  xyz_knowledge  behavioral_antiviral_meds  \\\n",
       "0          1.0            0.0                        0.0   \n",
       "1          3.0            2.0                        0.0   \n",
       "2          1.0            1.0                        0.0   \n",
       "3          1.0            1.0                        0.0   \n",
       "4          2.0            1.0                        0.0   \n",
       "\n",
       "   behavioral_avoidance  behavioral_face_mask  behavioral_wash_hands  \\\n",
       "0                   0.0                   0.0                    0.0   \n",
       "1                   1.0                   0.0                    1.0   \n",
       "2                   1.0                   0.0                    0.0   \n",
       "3                   1.0                   0.0                    1.0   \n",
       "4                   1.0                   0.0                    1.0   \n",
       "\n",
       "   behavioral_large_gatherings  behavioral_outside_home  \\\n",
       "0                          0.0                      1.0   \n",
       "1                          0.0                      1.0   \n",
       "2                          0.0                      0.0   \n",
       "3                          1.0                      0.0   \n",
       "4                          1.0                      0.0   \n",
       "\n",
       "   behavioral_touch_face  doctor_recc_xyz  ...             income_poverty  \\\n",
       "0                    1.0              0.0  ...              Below Poverty   \n",
       "1                    1.0              0.0  ...              Below Poverty   \n",
       "2                    0.0              NaN  ...  <= $75,000, Above Poverty   \n",
       "3                    0.0              0.0  ...              Below Poverty   \n",
       "4                    1.0              0.0  ...  <= $75,000, Above Poverty   \n",
       "\n",
       "   marital_status  rent_or_own   employment_status  hhs_geo_region  \\\n",
       "0     Not Married          Own  Not in Labor Force        oxchjgsf   \n",
       "1     Not Married         Rent            Employed        bhuqouqj   \n",
       "2     Not Married          Own            Employed        qufhixun   \n",
       "3     Not Married         Rent  Not in Labor Force        lrircsnp   \n",
       "4         Married          Own            Employed        qufhixun   \n",
       "\n",
       "                 census_msa  household_adults  household_children  \\\n",
       "0                   Non-MSA               0.0                 0.0   \n",
       "1  MSA, Not Principle  City               0.0                 0.0   \n",
       "2  MSA, Not Principle  City               2.0                 0.0   \n",
       "3       MSA, Principle City               0.0                 0.0   \n",
       "4  MSA, Not Principle  City               1.0                 0.0   \n",
       "\n",
       "   employment_industry  employment_occupation  \n",
       "0                  NaN                    NaN  \n",
       "1             pxcmvdjn               xgwztkwe  \n",
       "2             rucpziij               xtkaffoo  \n",
       "3                  NaN                    NaN  \n",
       "4             wxleyezf               emcorrxb  \n",
       "\n",
       "[5 rows x 35 columns]"
      ]
     },
     "execution_count": 74,
     "metadata": {},
     "output_type": "execute_result"
    }
   ],
   "source": [
    "train_features.drop('respondent_id', axis=1, inplace=True)\n",
    "train_features.head()"
   ]
  },
  {
   "cell_type": "code",
   "execution_count": 75,
   "id": "66b26507",
   "metadata": {},
   "outputs": [],
   "source": [
    "numeric_cols = train_features.columns[train_features.dtypes != \"object\"].values\n"
   ]
  },
  {
   "cell_type": "code",
   "execution_count": 76,
   "id": "29715768",
   "metadata": {},
   "outputs": [],
   "source": [
    "from sklearn.impute import KNNImputer"
   ]
  },
  {
   "cell_type": "code",
   "execution_count": 77,
   "id": "793c900b",
   "metadata": {},
   "outputs": [],
   "source": [
    "knn = KNNImputer(n_neighbors=5,missing_values=np.nan)"
   ]
  },
  {
   "cell_type": "code",
   "execution_count": 78,
   "id": "e7876559",
   "metadata": {},
   "outputs": [
    {
     "data": {
      "text/html": [
       "<style>#sk-container-id-2 {color: black;background-color: white;}#sk-container-id-2 pre{padding: 0;}#sk-container-id-2 div.sk-toggleable {background-color: white;}#sk-container-id-2 label.sk-toggleable__label {cursor: pointer;display: block;width: 100%;margin-bottom: 0;padding: 0.3em;box-sizing: border-box;text-align: center;}#sk-container-id-2 label.sk-toggleable__label-arrow:before {content: \"▸\";float: left;margin-right: 0.25em;color: #696969;}#sk-container-id-2 label.sk-toggleable__label-arrow:hover:before {color: black;}#sk-container-id-2 div.sk-estimator:hover label.sk-toggleable__label-arrow:before {color: black;}#sk-container-id-2 div.sk-toggleable__content {max-height: 0;max-width: 0;overflow: hidden;text-align: left;background-color: #f0f8ff;}#sk-container-id-2 div.sk-toggleable__content pre {margin: 0.2em;color: black;border-radius: 0.25em;background-color: #f0f8ff;}#sk-container-id-2 input.sk-toggleable__control:checked~div.sk-toggleable__content {max-height: 200px;max-width: 100%;overflow: auto;}#sk-container-id-2 input.sk-toggleable__control:checked~label.sk-toggleable__label-arrow:before {content: \"▾\";}#sk-container-id-2 div.sk-estimator input.sk-toggleable__control:checked~label.sk-toggleable__label {background-color: #d4ebff;}#sk-container-id-2 div.sk-label input.sk-toggleable__control:checked~label.sk-toggleable__label {background-color: #d4ebff;}#sk-container-id-2 input.sk-hidden--visually {border: 0;clip: rect(1px 1px 1px 1px);clip: rect(1px, 1px, 1px, 1px);height: 1px;margin: -1px;overflow: hidden;padding: 0;position: absolute;width: 1px;}#sk-container-id-2 div.sk-estimator {font-family: monospace;background-color: #f0f8ff;border: 1px dotted black;border-radius: 0.25em;box-sizing: border-box;margin-bottom: 0.5em;}#sk-container-id-2 div.sk-estimator:hover {background-color: #d4ebff;}#sk-container-id-2 div.sk-parallel-item::after {content: \"\";width: 100%;border-bottom: 1px solid gray;flex-grow: 1;}#sk-container-id-2 div.sk-label:hover label.sk-toggleable__label {background-color: #d4ebff;}#sk-container-id-2 div.sk-serial::before {content: \"\";position: absolute;border-left: 1px solid gray;box-sizing: border-box;top: 0;bottom: 0;left: 50%;z-index: 0;}#sk-container-id-2 div.sk-serial {display: flex;flex-direction: column;align-items: center;background-color: white;padding-right: 0.2em;padding-left: 0.2em;position: relative;}#sk-container-id-2 div.sk-item {position: relative;z-index: 1;}#sk-container-id-2 div.sk-parallel {display: flex;align-items: stretch;justify-content: center;background-color: white;position: relative;}#sk-container-id-2 div.sk-item::before, #sk-container-id-2 div.sk-parallel-item::before {content: \"\";position: absolute;border-left: 1px solid gray;box-sizing: border-box;top: 0;bottom: 0;left: 50%;z-index: -1;}#sk-container-id-2 div.sk-parallel-item {display: flex;flex-direction: column;z-index: 1;position: relative;background-color: white;}#sk-container-id-2 div.sk-parallel-item:first-child::after {align-self: flex-end;width: 50%;}#sk-container-id-2 div.sk-parallel-item:last-child::after {align-self: flex-start;width: 50%;}#sk-container-id-2 div.sk-parallel-item:only-child::after {width: 0;}#sk-container-id-2 div.sk-dashed-wrapped {border: 1px dashed gray;margin: 0 0.4em 0.5em 0.4em;box-sizing: border-box;padding-bottom: 0.4em;background-color: white;}#sk-container-id-2 div.sk-label label {font-family: monospace;font-weight: bold;display: inline-block;line-height: 1.2em;}#sk-container-id-2 div.sk-label-container {text-align: center;}#sk-container-id-2 div.sk-container {/* jupyter's `normalize.less` sets `[hidden] { display: none; }` but bootstrap.min.css set `[hidden] { display: none !important; }` so we also need the `!important` here to be able to override the default hidden behavior on the sphinx rendered scikit-learn.org. See: https://github.com/scikit-learn/scikit-learn/issues/21755 */display: inline-block !important;position: relative;}#sk-container-id-2 div.sk-text-repr-fallback {display: none;}</style><div id=\"sk-container-id-2\" class=\"sk-top-container\"><div class=\"sk-text-repr-fallback\"><pre>KNNImputer()</pre><b>In a Jupyter environment, please rerun this cell to show the HTML representation or trust the notebook. <br />On GitHub, the HTML representation is unable to render, please try loading this page with nbviewer.org.</b></div><div class=\"sk-container\" hidden><div class=\"sk-item\"><div class=\"sk-estimator sk-toggleable\"><input class=\"sk-toggleable__control sk-hidden--visually\" id=\"sk-estimator-id-2\" type=\"checkbox\" checked><label for=\"sk-estimator-id-2\" class=\"sk-toggleable__label sk-toggleable__label-arrow\">KNNImputer</label><div class=\"sk-toggleable__content\"><pre>KNNImputer()</pre></div></div></div></div></div>"
      ],
      "text/plain": [
       "KNNImputer()"
      ]
     },
     "execution_count": 78,
     "metadata": {},
     "output_type": "execute_result"
    }
   ],
   "source": [
    "knn.fit(train_features[numeric_cols]) "
   ]
  },
  {
   "cell_type": "code",
   "execution_count": 79,
   "id": "a5f0b116",
   "metadata": {},
   "outputs": [],
   "source": [
    "train_features[numeric_cols] = knn.transform(train_features[numeric_cols])\n"
   ]
  },
  {
   "cell_type": "code",
   "execution_count": 80,
   "id": "2a986b50",
   "metadata": {},
   "outputs": [
    {
     "data": {
      "text/plain": [
       "xyz_concern                        0\n",
       "xyz_knowledge                      0\n",
       "behavioral_antiviral_meds          0\n",
       "behavioral_avoidance               0\n",
       "behavioral_face_mask               0\n",
       "behavioral_wash_hands              0\n",
       "behavioral_large_gatherings        0\n",
       "behavioral_outside_home            0\n",
       "behavioral_touch_face              0\n",
       "doctor_recc_xyz                    0\n",
       "doctor_recc_seasonal               0\n",
       "chronic_med_condition              0\n",
       "child_under_6_months               0\n",
       "health_worker                      0\n",
       "health_insurance                   0\n",
       "opinion_xyz_vacc_effective         0\n",
       "opinion_xyz_risk                   0\n",
       "opinion_xyz_sick_from_vacc         0\n",
       "opinion_seas_vacc_effective        0\n",
       "opinion_seas_risk                  0\n",
       "opinion_seas_sick_from_vacc        0\n",
       "age_group                          0\n",
       "education                       1407\n",
       "race                               0\n",
       "sex                                0\n",
       "income_poverty                  4423\n",
       "marital_status                  1408\n",
       "rent_or_own                     2042\n",
       "employment_status               1463\n",
       "hhs_geo_region                     0\n",
       "census_msa                         0\n",
       "household_adults                   0\n",
       "household_children                 0\n",
       "employment_industry            13330\n",
       "employment_occupation          13470\n",
       "dtype: int64"
      ]
     },
     "execution_count": 80,
     "metadata": {},
     "output_type": "execute_result"
    }
   ],
   "source": [
    "train_features.isna().sum()"
   ]
  },
  {
   "cell_type": "code",
   "execution_count": 12,
   "id": "ae6b11bf",
   "metadata": {},
   "outputs": [
    {
     "data": {
      "text/html": [
       "<div>\n",
       "<style scoped>\n",
       "    .dataframe tbody tr th:only-of-type {\n",
       "        vertical-align: middle;\n",
       "    }\n",
       "\n",
       "    .dataframe tbody tr th {\n",
       "        vertical-align: top;\n",
       "    }\n",
       "\n",
       "    .dataframe thead th {\n",
       "        text-align: right;\n",
       "    }\n",
       "</style>\n",
       "<table border=\"1\" class=\"dataframe\">\n",
       "  <thead>\n",
       "    <tr style=\"text-align: right;\">\n",
       "      <th></th>\n",
       "      <th>xyz_concern</th>\n",
       "      <th>xyz_knowledge</th>\n",
       "      <th>behavioral_antiviral_meds</th>\n",
       "      <th>behavioral_avoidance</th>\n",
       "      <th>behavioral_face_mask</th>\n",
       "      <th>behavioral_wash_hands</th>\n",
       "      <th>behavioral_large_gatherings</th>\n",
       "      <th>behavioral_outside_home</th>\n",
       "      <th>behavioral_touch_face</th>\n",
       "      <th>doctor_recc_xyz</th>\n",
       "      <th>...</th>\n",
       "      <th>income_poverty</th>\n",
       "      <th>marital_status</th>\n",
       "      <th>rent_or_own</th>\n",
       "      <th>employment_status</th>\n",
       "      <th>hhs_geo_region</th>\n",
       "      <th>census_msa</th>\n",
       "      <th>household_adults</th>\n",
       "      <th>household_children</th>\n",
       "      <th>employment_industry</th>\n",
       "      <th>employment_occupation</th>\n",
       "    </tr>\n",
       "  </thead>\n",
       "  <tbody>\n",
       "    <tr>\n",
       "      <th>0</th>\n",
       "      <td>1.0</td>\n",
       "      <td>0.0</td>\n",
       "      <td>0.0</td>\n",
       "      <td>0.0</td>\n",
       "      <td>0.0</td>\n",
       "      <td>0.0</td>\n",
       "      <td>0.0</td>\n",
       "      <td>1.0</td>\n",
       "      <td>1.0</td>\n",
       "      <td>0.0</td>\n",
       "      <td>...</td>\n",
       "      <td>Below Poverty</td>\n",
       "      <td>Not Married</td>\n",
       "      <td>Own</td>\n",
       "      <td>Not in Labor Force</td>\n",
       "      <td>oxchjgsf</td>\n",
       "      <td>Non-MSA</td>\n",
       "      <td>0.0</td>\n",
       "      <td>0.0</td>\n",
       "      <td>NaN</td>\n",
       "      <td>NaN</td>\n",
       "    </tr>\n",
       "    <tr>\n",
       "      <th>1</th>\n",
       "      <td>3.0</td>\n",
       "      <td>2.0</td>\n",
       "      <td>0.0</td>\n",
       "      <td>1.0</td>\n",
       "      <td>0.0</td>\n",
       "      <td>1.0</td>\n",
       "      <td>0.0</td>\n",
       "      <td>1.0</td>\n",
       "      <td>1.0</td>\n",
       "      <td>0.0</td>\n",
       "      <td>...</td>\n",
       "      <td>Below Poverty</td>\n",
       "      <td>Not Married</td>\n",
       "      <td>Rent</td>\n",
       "      <td>Employed</td>\n",
       "      <td>bhuqouqj</td>\n",
       "      <td>MSA, Not Principle  City</td>\n",
       "      <td>0.0</td>\n",
       "      <td>0.0</td>\n",
       "      <td>pxcmvdjn</td>\n",
       "      <td>xgwztkwe</td>\n",
       "    </tr>\n",
       "    <tr>\n",
       "      <th>2</th>\n",
       "      <td>1.0</td>\n",
       "      <td>1.0</td>\n",
       "      <td>0.0</td>\n",
       "      <td>1.0</td>\n",
       "      <td>0.0</td>\n",
       "      <td>0.0</td>\n",
       "      <td>0.0</td>\n",
       "      <td>0.0</td>\n",
       "      <td>0.0</td>\n",
       "      <td>0.0</td>\n",
       "      <td>...</td>\n",
       "      <td>&lt;= $75,000, Above Poverty</td>\n",
       "      <td>Not Married</td>\n",
       "      <td>Own</td>\n",
       "      <td>Employed</td>\n",
       "      <td>qufhixun</td>\n",
       "      <td>MSA, Not Principle  City</td>\n",
       "      <td>2.0</td>\n",
       "      <td>0.0</td>\n",
       "      <td>rucpziij</td>\n",
       "      <td>xtkaffoo</td>\n",
       "    </tr>\n",
       "    <tr>\n",
       "      <th>3</th>\n",
       "      <td>1.0</td>\n",
       "      <td>1.0</td>\n",
       "      <td>0.0</td>\n",
       "      <td>1.0</td>\n",
       "      <td>0.0</td>\n",
       "      <td>1.0</td>\n",
       "      <td>1.0</td>\n",
       "      <td>0.0</td>\n",
       "      <td>0.0</td>\n",
       "      <td>0.0</td>\n",
       "      <td>...</td>\n",
       "      <td>Below Poverty</td>\n",
       "      <td>Not Married</td>\n",
       "      <td>Rent</td>\n",
       "      <td>Not in Labor Force</td>\n",
       "      <td>lrircsnp</td>\n",
       "      <td>MSA, Principle City</td>\n",
       "      <td>0.0</td>\n",
       "      <td>0.0</td>\n",
       "      <td>NaN</td>\n",
       "      <td>NaN</td>\n",
       "    </tr>\n",
       "    <tr>\n",
       "      <th>4</th>\n",
       "      <td>2.0</td>\n",
       "      <td>1.0</td>\n",
       "      <td>0.0</td>\n",
       "      <td>1.0</td>\n",
       "      <td>0.0</td>\n",
       "      <td>1.0</td>\n",
       "      <td>1.0</td>\n",
       "      <td>0.0</td>\n",
       "      <td>1.0</td>\n",
       "      <td>0.0</td>\n",
       "      <td>...</td>\n",
       "      <td>&lt;= $75,000, Above Poverty</td>\n",
       "      <td>Married</td>\n",
       "      <td>Own</td>\n",
       "      <td>Employed</td>\n",
       "      <td>qufhixun</td>\n",
       "      <td>MSA, Not Principle  City</td>\n",
       "      <td>1.0</td>\n",
       "      <td>0.0</td>\n",
       "      <td>wxleyezf</td>\n",
       "      <td>emcorrxb</td>\n",
       "    </tr>\n",
       "  </tbody>\n",
       "</table>\n",
       "<p>5 rows × 35 columns</p>\n",
       "</div>"
      ],
      "text/plain": [
       "   xyz_concern  xyz_knowledge  behavioral_antiviral_meds  \\\n",
       "0          1.0            0.0                        0.0   \n",
       "1          3.0            2.0                        0.0   \n",
       "2          1.0            1.0                        0.0   \n",
       "3          1.0            1.0                        0.0   \n",
       "4          2.0            1.0                        0.0   \n",
       "\n",
       "   behavioral_avoidance  behavioral_face_mask  behavioral_wash_hands  \\\n",
       "0                   0.0                   0.0                    0.0   \n",
       "1                   1.0                   0.0                    1.0   \n",
       "2                   1.0                   0.0                    0.0   \n",
       "3                   1.0                   0.0                    1.0   \n",
       "4                   1.0                   0.0                    1.0   \n",
       "\n",
       "   behavioral_large_gatherings  behavioral_outside_home  \\\n",
       "0                          0.0                      1.0   \n",
       "1                          0.0                      1.0   \n",
       "2                          0.0                      0.0   \n",
       "3                          1.0                      0.0   \n",
       "4                          1.0                      0.0   \n",
       "\n",
       "   behavioral_touch_face  doctor_recc_xyz  ...             income_poverty  \\\n",
       "0                    1.0              0.0  ...              Below Poverty   \n",
       "1                    1.0              0.0  ...              Below Poverty   \n",
       "2                    0.0              0.0  ...  <= $75,000, Above Poverty   \n",
       "3                    0.0              0.0  ...              Below Poverty   \n",
       "4                    1.0              0.0  ...  <= $75,000, Above Poverty   \n",
       "\n",
       "   marital_status  rent_or_own   employment_status  hhs_geo_region  \\\n",
       "0     Not Married          Own  Not in Labor Force        oxchjgsf   \n",
       "1     Not Married         Rent            Employed        bhuqouqj   \n",
       "2     Not Married          Own            Employed        qufhixun   \n",
       "3     Not Married         Rent  Not in Labor Force        lrircsnp   \n",
       "4         Married          Own            Employed        qufhixun   \n",
       "\n",
       "                 census_msa  household_adults  household_children  \\\n",
       "0                   Non-MSA               0.0                 0.0   \n",
       "1  MSA, Not Principle  City               0.0                 0.0   \n",
       "2  MSA, Not Principle  City               2.0                 0.0   \n",
       "3       MSA, Principle City               0.0                 0.0   \n",
       "4  MSA, Not Principle  City               1.0                 0.0   \n",
       "\n",
       "   employment_industry  employment_occupation  \n",
       "0                  NaN                    NaN  \n",
       "1             pxcmvdjn               xgwztkwe  \n",
       "2             rucpziij               xtkaffoo  \n",
       "3                  NaN                    NaN  \n",
       "4             wxleyezf               emcorrxb  \n",
       "\n",
       "[5 rows x 35 columns]"
      ]
     },
     "execution_count": 12,
     "metadata": {},
     "output_type": "execute_result"
    }
   ],
   "source": [
    "train_features.head()"
   ]
  },
  {
   "cell_type": "code",
   "execution_count": 81,
   "id": "18d98af9",
   "metadata": {},
   "outputs": [
    {
     "data": {
      "text/html": [
       "<div>\n",
       "<style scoped>\n",
       "    .dataframe tbody tr th:only-of-type {\n",
       "        vertical-align: middle;\n",
       "    }\n",
       "\n",
       "    .dataframe tbody tr th {\n",
       "        vertical-align: top;\n",
       "    }\n",
       "\n",
       "    .dataframe thead th {\n",
       "        text-align: right;\n",
       "    }\n",
       "</style>\n",
       "<table border=\"1\" class=\"dataframe\">\n",
       "  <thead>\n",
       "    <tr style=\"text-align: right;\">\n",
       "      <th></th>\n",
       "      <th>xyz_concern</th>\n",
       "      <th>xyz_knowledge</th>\n",
       "      <th>behavioral_antiviral_meds</th>\n",
       "      <th>behavioral_avoidance</th>\n",
       "      <th>behavioral_face_mask</th>\n",
       "      <th>behavioral_wash_hands</th>\n",
       "      <th>behavioral_large_gatherings</th>\n",
       "      <th>behavioral_outside_home</th>\n",
       "      <th>behavioral_touch_face</th>\n",
       "      <th>doctor_recc_xyz</th>\n",
       "      <th>...</th>\n",
       "      <th>marital_status</th>\n",
       "      <th>rent_or_own</th>\n",
       "      <th>employment_status</th>\n",
       "      <th>hhs_geo_region</th>\n",
       "      <th>census_msa</th>\n",
       "      <th>household_adults</th>\n",
       "      <th>household_children</th>\n",
       "      <th>employment_industry</th>\n",
       "      <th>employment_occupation</th>\n",
       "      <th>sex_new</th>\n",
       "    </tr>\n",
       "  </thead>\n",
       "  <tbody>\n",
       "    <tr>\n",
       "      <th>0</th>\n",
       "      <td>1.0</td>\n",
       "      <td>0.0</td>\n",
       "      <td>0.0</td>\n",
       "      <td>0.0</td>\n",
       "      <td>0.0</td>\n",
       "      <td>0.0</td>\n",
       "      <td>0.0</td>\n",
       "      <td>1.0</td>\n",
       "      <td>1.0</td>\n",
       "      <td>0.0</td>\n",
       "      <td>...</td>\n",
       "      <td>Not Married</td>\n",
       "      <td>Own</td>\n",
       "      <td>Not in Labor Force</td>\n",
       "      <td>oxchjgsf</td>\n",
       "      <td>Non-MSA</td>\n",
       "      <td>0.0</td>\n",
       "      <td>0.0</td>\n",
       "      <td>NaN</td>\n",
       "      <td>NaN</td>\n",
       "      <td>0</td>\n",
       "    </tr>\n",
       "    <tr>\n",
       "      <th>1</th>\n",
       "      <td>3.0</td>\n",
       "      <td>2.0</td>\n",
       "      <td>0.0</td>\n",
       "      <td>1.0</td>\n",
       "      <td>0.0</td>\n",
       "      <td>1.0</td>\n",
       "      <td>0.0</td>\n",
       "      <td>1.0</td>\n",
       "      <td>1.0</td>\n",
       "      <td>0.0</td>\n",
       "      <td>...</td>\n",
       "      <td>Not Married</td>\n",
       "      <td>Rent</td>\n",
       "      <td>Employed</td>\n",
       "      <td>bhuqouqj</td>\n",
       "      <td>MSA, Not Principle  City</td>\n",
       "      <td>0.0</td>\n",
       "      <td>0.0</td>\n",
       "      <td>pxcmvdjn</td>\n",
       "      <td>xgwztkwe</td>\n",
       "      <td>1</td>\n",
       "    </tr>\n",
       "    <tr>\n",
       "      <th>2</th>\n",
       "      <td>1.0</td>\n",
       "      <td>1.0</td>\n",
       "      <td>0.0</td>\n",
       "      <td>1.0</td>\n",
       "      <td>0.0</td>\n",
       "      <td>0.0</td>\n",
       "      <td>0.0</td>\n",
       "      <td>0.0</td>\n",
       "      <td>0.0</td>\n",
       "      <td>0.0</td>\n",
       "      <td>...</td>\n",
       "      <td>Not Married</td>\n",
       "      <td>Own</td>\n",
       "      <td>Employed</td>\n",
       "      <td>qufhixun</td>\n",
       "      <td>MSA, Not Principle  City</td>\n",
       "      <td>2.0</td>\n",
       "      <td>0.0</td>\n",
       "      <td>rucpziij</td>\n",
       "      <td>xtkaffoo</td>\n",
       "      <td>1</td>\n",
       "    </tr>\n",
       "    <tr>\n",
       "      <th>3</th>\n",
       "      <td>1.0</td>\n",
       "      <td>1.0</td>\n",
       "      <td>0.0</td>\n",
       "      <td>1.0</td>\n",
       "      <td>0.0</td>\n",
       "      <td>1.0</td>\n",
       "      <td>1.0</td>\n",
       "      <td>0.0</td>\n",
       "      <td>0.0</td>\n",
       "      <td>0.0</td>\n",
       "      <td>...</td>\n",
       "      <td>Not Married</td>\n",
       "      <td>Rent</td>\n",
       "      <td>Not in Labor Force</td>\n",
       "      <td>lrircsnp</td>\n",
       "      <td>MSA, Principle City</td>\n",
       "      <td>0.0</td>\n",
       "      <td>0.0</td>\n",
       "      <td>NaN</td>\n",
       "      <td>NaN</td>\n",
       "      <td>0</td>\n",
       "    </tr>\n",
       "    <tr>\n",
       "      <th>4</th>\n",
       "      <td>2.0</td>\n",
       "      <td>1.0</td>\n",
       "      <td>0.0</td>\n",
       "      <td>1.0</td>\n",
       "      <td>0.0</td>\n",
       "      <td>1.0</td>\n",
       "      <td>1.0</td>\n",
       "      <td>0.0</td>\n",
       "      <td>1.0</td>\n",
       "      <td>0.0</td>\n",
       "      <td>...</td>\n",
       "      <td>Married</td>\n",
       "      <td>Own</td>\n",
       "      <td>Employed</td>\n",
       "      <td>qufhixun</td>\n",
       "      <td>MSA, Not Principle  City</td>\n",
       "      <td>1.0</td>\n",
       "      <td>0.0</td>\n",
       "      <td>wxleyezf</td>\n",
       "      <td>emcorrxb</td>\n",
       "      <td>0</td>\n",
       "    </tr>\n",
       "    <tr>\n",
       "      <th>...</th>\n",
       "      <td>...</td>\n",
       "      <td>...</td>\n",
       "      <td>...</td>\n",
       "      <td>...</td>\n",
       "      <td>...</td>\n",
       "      <td>...</td>\n",
       "      <td>...</td>\n",
       "      <td>...</td>\n",
       "      <td>...</td>\n",
       "      <td>...</td>\n",
       "      <td>...</td>\n",
       "      <td>...</td>\n",
       "      <td>...</td>\n",
       "      <td>...</td>\n",
       "      <td>...</td>\n",
       "      <td>...</td>\n",
       "      <td>...</td>\n",
       "      <td>...</td>\n",
       "      <td>...</td>\n",
       "      <td>...</td>\n",
       "      <td>...</td>\n",
       "    </tr>\n",
       "    <tr>\n",
       "      <th>26702</th>\n",
       "      <td>2.0</td>\n",
       "      <td>0.0</td>\n",
       "      <td>0.0</td>\n",
       "      <td>1.0</td>\n",
       "      <td>0.0</td>\n",
       "      <td>0.0</td>\n",
       "      <td>0.0</td>\n",
       "      <td>1.0</td>\n",
       "      <td>0.0</td>\n",
       "      <td>0.0</td>\n",
       "      <td>...</td>\n",
       "      <td>Not Married</td>\n",
       "      <td>Own</td>\n",
       "      <td>Not in Labor Force</td>\n",
       "      <td>qufhixun</td>\n",
       "      <td>Non-MSA</td>\n",
       "      <td>0.0</td>\n",
       "      <td>0.0</td>\n",
       "      <td>NaN</td>\n",
       "      <td>NaN</td>\n",
       "      <td>0</td>\n",
       "    </tr>\n",
       "    <tr>\n",
       "      <th>26703</th>\n",
       "      <td>1.0</td>\n",
       "      <td>2.0</td>\n",
       "      <td>0.0</td>\n",
       "      <td>1.0</td>\n",
       "      <td>0.0</td>\n",
       "      <td>1.0</td>\n",
       "      <td>0.0</td>\n",
       "      <td>0.0</td>\n",
       "      <td>0.0</td>\n",
       "      <td>1.0</td>\n",
       "      <td>...</td>\n",
       "      <td>Not Married</td>\n",
       "      <td>Rent</td>\n",
       "      <td>Employed</td>\n",
       "      <td>lzgpxyit</td>\n",
       "      <td>MSA, Principle City</td>\n",
       "      <td>1.0</td>\n",
       "      <td>0.0</td>\n",
       "      <td>fcxhlnwr</td>\n",
       "      <td>cmhcxjea</td>\n",
       "      <td>1</td>\n",
       "    </tr>\n",
       "    <tr>\n",
       "      <th>26704</th>\n",
       "      <td>2.0</td>\n",
       "      <td>2.0</td>\n",
       "      <td>0.0</td>\n",
       "      <td>1.0</td>\n",
       "      <td>1.0</td>\n",
       "      <td>1.0</td>\n",
       "      <td>1.0</td>\n",
       "      <td>0.0</td>\n",
       "      <td>1.0</td>\n",
       "      <td>0.0</td>\n",
       "      <td>...</td>\n",
       "      <td>Not Married</td>\n",
       "      <td>Own</td>\n",
       "      <td>NaN</td>\n",
       "      <td>lzgpxyit</td>\n",
       "      <td>MSA, Not Principle  City</td>\n",
       "      <td>0.0</td>\n",
       "      <td>0.0</td>\n",
       "      <td>NaN</td>\n",
       "      <td>NaN</td>\n",
       "      <td>0</td>\n",
       "    </tr>\n",
       "    <tr>\n",
       "      <th>26705</th>\n",
       "      <td>1.0</td>\n",
       "      <td>1.0</td>\n",
       "      <td>0.0</td>\n",
       "      <td>0.0</td>\n",
       "      <td>0.0</td>\n",
       "      <td>0.0</td>\n",
       "      <td>0.0</td>\n",
       "      <td>0.0</td>\n",
       "      <td>0.0</td>\n",
       "      <td>0.0</td>\n",
       "      <td>...</td>\n",
       "      <td>Married</td>\n",
       "      <td>Rent</td>\n",
       "      <td>Employed</td>\n",
       "      <td>lrircsnp</td>\n",
       "      <td>Non-MSA</td>\n",
       "      <td>1.0</td>\n",
       "      <td>0.0</td>\n",
       "      <td>fcxhlnwr</td>\n",
       "      <td>haliazsg</td>\n",
       "      <td>0</td>\n",
       "    </tr>\n",
       "    <tr>\n",
       "      <th>26706</th>\n",
       "      <td>0.0</td>\n",
       "      <td>0.0</td>\n",
       "      <td>0.0</td>\n",
       "      <td>1.0</td>\n",
       "      <td>0.0</td>\n",
       "      <td>0.0</td>\n",
       "      <td>0.0</td>\n",
       "      <td>0.0</td>\n",
       "      <td>0.0</td>\n",
       "      <td>0.0</td>\n",
       "      <td>...</td>\n",
       "      <td>Married</td>\n",
       "      <td>Own</td>\n",
       "      <td>Not in Labor Force</td>\n",
       "      <td>mlyzmhmf</td>\n",
       "      <td>MSA, Principle City</td>\n",
       "      <td>1.0</td>\n",
       "      <td>0.0</td>\n",
       "      <td>NaN</td>\n",
       "      <td>NaN</td>\n",
       "      <td>1</td>\n",
       "    </tr>\n",
       "  </tbody>\n",
       "</table>\n",
       "<p>26707 rows × 36 columns</p>\n",
       "</div>"
      ],
      "text/plain": [
       "       xyz_concern  xyz_knowledge  behavioral_antiviral_meds  \\\n",
       "0              1.0            0.0                        0.0   \n",
       "1              3.0            2.0                        0.0   \n",
       "2              1.0            1.0                        0.0   \n",
       "3              1.0            1.0                        0.0   \n",
       "4              2.0            1.0                        0.0   \n",
       "...            ...            ...                        ...   \n",
       "26702          2.0            0.0                        0.0   \n",
       "26703          1.0            2.0                        0.0   \n",
       "26704          2.0            2.0                        0.0   \n",
       "26705          1.0            1.0                        0.0   \n",
       "26706          0.0            0.0                        0.0   \n",
       "\n",
       "       behavioral_avoidance  behavioral_face_mask  behavioral_wash_hands  \\\n",
       "0                       0.0                   0.0                    0.0   \n",
       "1                       1.0                   0.0                    1.0   \n",
       "2                       1.0                   0.0                    0.0   \n",
       "3                       1.0                   0.0                    1.0   \n",
       "4                       1.0                   0.0                    1.0   \n",
       "...                     ...                   ...                    ...   \n",
       "26702                   1.0                   0.0                    0.0   \n",
       "26703                   1.0                   0.0                    1.0   \n",
       "26704                   1.0                   1.0                    1.0   \n",
       "26705                   0.0                   0.0                    0.0   \n",
       "26706                   1.0                   0.0                    0.0   \n",
       "\n",
       "       behavioral_large_gatherings  behavioral_outside_home  \\\n",
       "0                              0.0                      1.0   \n",
       "1                              0.0                      1.0   \n",
       "2                              0.0                      0.0   \n",
       "3                              1.0                      0.0   \n",
       "4                              1.0                      0.0   \n",
       "...                            ...                      ...   \n",
       "26702                          0.0                      1.0   \n",
       "26703                          0.0                      0.0   \n",
       "26704                          1.0                      0.0   \n",
       "26705                          0.0                      0.0   \n",
       "26706                          0.0                      0.0   \n",
       "\n",
       "       behavioral_touch_face  doctor_recc_xyz  ...  marital_status  \\\n",
       "0                        1.0              0.0  ...     Not Married   \n",
       "1                        1.0              0.0  ...     Not Married   \n",
       "2                        0.0              0.0  ...     Not Married   \n",
       "3                        0.0              0.0  ...     Not Married   \n",
       "4                        1.0              0.0  ...         Married   \n",
       "...                      ...              ...  ...             ...   \n",
       "26702                    0.0              0.0  ...     Not Married   \n",
       "26703                    0.0              1.0  ...     Not Married   \n",
       "26704                    1.0              0.0  ...     Not Married   \n",
       "26705                    0.0              0.0  ...         Married   \n",
       "26706                    0.0              0.0  ...         Married   \n",
       "\n",
       "       rent_or_own   employment_status  hhs_geo_region  \\\n",
       "0              Own  Not in Labor Force        oxchjgsf   \n",
       "1             Rent            Employed        bhuqouqj   \n",
       "2              Own            Employed        qufhixun   \n",
       "3             Rent  Not in Labor Force        lrircsnp   \n",
       "4              Own            Employed        qufhixun   \n",
       "...            ...                 ...             ...   \n",
       "26702          Own  Not in Labor Force        qufhixun   \n",
       "26703         Rent            Employed        lzgpxyit   \n",
       "26704          Own                 NaN        lzgpxyit   \n",
       "26705         Rent            Employed        lrircsnp   \n",
       "26706          Own  Not in Labor Force        mlyzmhmf   \n",
       "\n",
       "                     census_msa  household_adults  household_children  \\\n",
       "0                       Non-MSA               0.0                 0.0   \n",
       "1      MSA, Not Principle  City               0.0                 0.0   \n",
       "2      MSA, Not Principle  City               2.0                 0.0   \n",
       "3           MSA, Principle City               0.0                 0.0   \n",
       "4      MSA, Not Principle  City               1.0                 0.0   \n",
       "...                         ...               ...                 ...   \n",
       "26702                   Non-MSA               0.0                 0.0   \n",
       "26703       MSA, Principle City               1.0                 0.0   \n",
       "26704  MSA, Not Principle  City               0.0                 0.0   \n",
       "26705                   Non-MSA               1.0                 0.0   \n",
       "26706       MSA, Principle City               1.0                 0.0   \n",
       "\n",
       "       employment_industry  employment_occupation  sex_new  \n",
       "0                      NaN                    NaN        0  \n",
       "1                 pxcmvdjn               xgwztkwe        1  \n",
       "2                 rucpziij               xtkaffoo        1  \n",
       "3                      NaN                    NaN        0  \n",
       "4                 wxleyezf               emcorrxb        0  \n",
       "...                    ...                    ...      ...  \n",
       "26702                  NaN                    NaN        0  \n",
       "26703             fcxhlnwr               cmhcxjea        1  \n",
       "26704                  NaN                    NaN        0  \n",
       "26705             fcxhlnwr               haliazsg        0  \n",
       "26706                  NaN                    NaN        1  \n",
       "\n",
       "[26707 rows x 36 columns]"
      ]
     },
     "execution_count": 81,
     "metadata": {},
     "output_type": "execute_result"
    }
   ],
   "source": [
    "mapping_dictionary_value={'Female':0,'Male':1}\n",
    "train_features['sex_new']=train_features.sex.map(mapping_dictionary_value)\n",
    "train_features"
   ]
  },
  {
   "cell_type": "code",
   "execution_count": 82,
   "id": "db9e769c",
   "metadata": {},
   "outputs": [],
   "source": [
    "train_features.drop('sex',axis=1,inplace=True)"
   ]
  },
  {
   "cell_type": "code",
   "execution_count": 15,
   "id": "f6187c67",
   "metadata": {},
   "outputs": [],
   "source": [
    "mapping_dictionary_value={'Female':0,'Male':1}\n",
    "test_df['sex_new']=test_df.sex.map(mapping_dictionary_value)"
   ]
  },
  {
   "cell_type": "code",
   "execution_count": 16,
   "id": "2a25e28e",
   "metadata": {},
   "outputs": [],
   "source": [
    "test_df.drop('sex',axis=1,inplace=True)"
   ]
  },
  {
   "cell_type": "code",
   "execution_count": 73,
   "id": "4cb56e7b",
   "metadata": {},
   "outputs": [
    {
     "data": {
      "text/plain": [
       "array(['Not Married', 'Married', 'Missing'], dtype=object)"
      ]
     },
     "execution_count": 73,
     "metadata": {},
     "output_type": "execute_result"
    }
   ],
   "source": [
    "train_features.marital_status.unique()"
   ]
  },
  {
   "cell_type": "code",
   "execution_count": 234,
   "id": "b67179da",
   "metadata": {},
   "outputs": [
    {
     "data": {
      "text/html": [
       "<div>\n",
       "<style scoped>\n",
       "    .dataframe tbody tr th:only-of-type {\n",
       "        vertical-align: middle;\n",
       "    }\n",
       "\n",
       "    .dataframe tbody tr th {\n",
       "        vertical-align: top;\n",
       "    }\n",
       "\n",
       "    .dataframe thead th {\n",
       "        text-align: right;\n",
       "    }\n",
       "</style>\n",
       "<table border=\"1\" class=\"dataframe\">\n",
       "  <thead>\n",
       "    <tr style=\"text-align: right;\">\n",
       "      <th></th>\n",
       "      <th>xyz_concern</th>\n",
       "      <th>xyz_knowledge</th>\n",
       "      <th>behavioral_antiviral_meds</th>\n",
       "      <th>behavioral_avoidance</th>\n",
       "      <th>behavioral_face_mask</th>\n",
       "      <th>behavioral_wash_hands</th>\n",
       "      <th>behavioral_large_gatherings</th>\n",
       "      <th>behavioral_outside_home</th>\n",
       "      <th>behavioral_touch_face</th>\n",
       "      <th>doctor_recc_xyz</th>\n",
       "      <th>...</th>\n",
       "      <th>race</th>\n",
       "      <th>income_poverty</th>\n",
       "      <th>marital_status</th>\n",
       "      <th>rent_or_own</th>\n",
       "      <th>employment_status</th>\n",
       "      <th>hhs_geo_region</th>\n",
       "      <th>census_msa</th>\n",
       "      <th>household_adults</th>\n",
       "      <th>household_children</th>\n",
       "      <th>sex_new</th>\n",
       "    </tr>\n",
       "  </thead>\n",
       "  <tbody>\n",
       "    <tr>\n",
       "      <th>0</th>\n",
       "      <td>0.420051</td>\n",
       "      <td>1.196093</td>\n",
       "      <td>-0.227075</td>\n",
       "      <td>0.618912</td>\n",
       "      <td>-0.272576</td>\n",
       "      <td>0.459940</td>\n",
       "      <td>1.338524</td>\n",
       "      <td>-0.714493</td>\n",
       "      <td>0.691919</td>\n",
       "      <td>-0.544766</td>\n",
       "      <td>...</td>\n",
       "      <td>-1.986034</td>\n",
       "      <td>6863</td>\n",
       "      <td>-1.145032</td>\n",
       "      <td>-2.289970</td>\n",
       "      <td>0.760161</td>\n",
       "      <td>-0.938288</td>\n",
       "      <td>1.265999</td>\n",
       "      <td>0.152265</td>\n",
       "      <td>-0.577740</td>\n",
       "      <td>-0.827124</td>\n",
       "    </tr>\n",
       "    <tr>\n",
       "      <th>1</th>\n",
       "      <td>-0.679394</td>\n",
       "      <td>-0.423542</td>\n",
       "      <td>-0.227075</td>\n",
       "      <td>-1.626549</td>\n",
       "      <td>-0.272576</td>\n",
       "      <td>-2.176822</td>\n",
       "      <td>-0.748583</td>\n",
       "      <td>-0.714493</td>\n",
       "      <td>-1.450582</td>\n",
       "      <td>-0.544766</td>\n",
       "      <td>...</td>\n",
       "      <td>0.518443</td>\n",
       "      <td>2573</td>\n",
       "      <td>-1.145032</td>\n",
       "      <td>-2.289970</td>\n",
       "      <td>0.760161</td>\n",
       "      <td>-0.065447</td>\n",
       "      <td>-1.150402</td>\n",
       "      <td>2.816934</td>\n",
       "      <td>-0.577740</td>\n",
       "      <td>1.209008</td>\n",
       "    </tr>\n",
       "    <tr>\n",
       "      <th>2</th>\n",
       "      <td>0.420051</td>\n",
       "      <td>1.196093</td>\n",
       "      <td>-0.227075</td>\n",
       "      <td>-1.626549</td>\n",
       "      <td>3.673487</td>\n",
       "      <td>0.459940</td>\n",
       "      <td>1.338524</td>\n",
       "      <td>1.402714</td>\n",
       "      <td>0.691919</td>\n",
       "      <td>-0.544766</td>\n",
       "      <td>...</td>\n",
       "      <td>0.518443</td>\n",
       "      <td>6863</td>\n",
       "      <td>0.902827</td>\n",
       "      <td>-2.289604</td>\n",
       "      <td>0.760161</td>\n",
       "      <td>-1.143737</td>\n",
       "      <td>-1.150402</td>\n",
       "      <td>0.152265</td>\n",
       "      <td>-0.577740</td>\n",
       "      <td>1.209008</td>\n",
       "    </tr>\n",
       "    <tr>\n",
       "      <th>3</th>\n",
       "      <td>-0.679394</td>\n",
       "      <td>-0.423542</td>\n",
       "      <td>-0.227075</td>\n",
       "      <td>-1.626549</td>\n",
       "      <td>-0.272576</td>\n",
       "      <td>-2.176822</td>\n",
       "      <td>-0.748583</td>\n",
       "      <td>-0.714493</td>\n",
       "      <td>-1.450582</td>\n",
       "      <td>1.950101</td>\n",
       "      <td>...</td>\n",
       "      <td>0.518443</td>\n",
       "      <td>12775</td>\n",
       "      <td>0.902827</td>\n",
       "      <td>-2.289604</td>\n",
       "      <td>-0.675087</td>\n",
       "      <td>-1.143737</td>\n",
       "      <td>1.265999</td>\n",
       "      <td>0.152265</td>\n",
       "      <td>-0.577740</td>\n",
       "      <td>-0.827124</td>\n",
       "    </tr>\n",
       "    <tr>\n",
       "      <th>4</th>\n",
       "      <td>1.519495</td>\n",
       "      <td>-0.423542</td>\n",
       "      <td>4.415775</td>\n",
       "      <td>0.618912</td>\n",
       "      <td>-0.272576</td>\n",
       "      <td>0.459940</td>\n",
       "      <td>1.338524</td>\n",
       "      <td>1.402714</td>\n",
       "      <td>0.691919</td>\n",
       "      <td>-0.544766</td>\n",
       "      <td>...</td>\n",
       "      <td>-1.925843</td>\n",
       "      <td>12775</td>\n",
       "      <td>-1.145032</td>\n",
       "      <td>-2.289604</td>\n",
       "      <td>0.760161</td>\n",
       "      <td>1.843573</td>\n",
       "      <td>-1.150402</td>\n",
       "      <td>-1.180069</td>\n",
       "      <td>0.503604</td>\n",
       "      <td>-0.827124</td>\n",
       "    </tr>\n",
       "  </tbody>\n",
       "</table>\n",
       "<p>5 rows × 33 columns</p>\n",
       "</div>"
      ],
      "text/plain": [
       "   xyz_concern  xyz_knowledge  behavioral_antiviral_meds  \\\n",
       "0     0.420051       1.196093                  -0.227075   \n",
       "1    -0.679394      -0.423542                  -0.227075   \n",
       "2     0.420051       1.196093                  -0.227075   \n",
       "3    -0.679394      -0.423542                  -0.227075   \n",
       "4     1.519495      -0.423542                   4.415775   \n",
       "\n",
       "   behavioral_avoidance  behavioral_face_mask  behavioral_wash_hands  \\\n",
       "0              0.618912             -0.272576               0.459940   \n",
       "1             -1.626549             -0.272576              -2.176822   \n",
       "2             -1.626549              3.673487               0.459940   \n",
       "3             -1.626549             -0.272576              -2.176822   \n",
       "4              0.618912             -0.272576               0.459940   \n",
       "\n",
       "   behavioral_large_gatherings  behavioral_outside_home  \\\n",
       "0                     1.338524                -0.714493   \n",
       "1                    -0.748583                -0.714493   \n",
       "2                     1.338524                 1.402714   \n",
       "3                    -0.748583                -0.714493   \n",
       "4                     1.338524                 1.402714   \n",
       "\n",
       "   behavioral_touch_face  doctor_recc_xyz  ...      race  income_poverty  \\\n",
       "0               0.691919        -0.544766  ... -1.986034            6863   \n",
       "1              -1.450582        -0.544766  ...  0.518443            2573   \n",
       "2               0.691919        -0.544766  ...  0.518443            6863   \n",
       "3              -1.450582         1.950101  ...  0.518443           12775   \n",
       "4               0.691919        -0.544766  ... -1.925843           12775   \n",
       "\n",
       "   marital_status  rent_or_own  employment_status  hhs_geo_region  census_msa  \\\n",
       "0       -1.145032    -2.289970           0.760161       -0.938288    1.265999   \n",
       "1       -1.145032    -2.289970           0.760161       -0.065447   -1.150402   \n",
       "2        0.902827    -2.289604           0.760161       -1.143737   -1.150402   \n",
       "3        0.902827    -2.289604          -0.675087       -1.143737    1.265999   \n",
       "4       -1.145032    -2.289604           0.760161        1.843573   -1.150402   \n",
       "\n",
       "   household_adults  household_children   sex_new  \n",
       "0          0.152265           -0.577740 -0.827124  \n",
       "1          2.816934           -0.577740  1.209008  \n",
       "2          0.152265           -0.577740  1.209008  \n",
       "3          0.152265           -0.577740 -0.827124  \n",
       "4         -1.180069            0.503604 -0.827124  \n",
       "\n",
       "[5 rows x 33 columns]"
      ]
     },
     "execution_count": 234,
     "metadata": {},
     "output_type": "execute_result"
    }
   ],
   "source": [
    "test_df.head()"
   ]
  },
  {
   "cell_type": "code",
   "execution_count": 93,
   "id": "15e8ea98",
   "metadata": {},
   "outputs": [],
   "source": []
  },
  {
   "cell_type": "code",
   "execution_count": null,
   "id": "857709ba",
   "metadata": {},
   "outputs": [],
   "source": []
  },
  {
   "cell_type": "code",
   "execution_count": 17,
   "id": "cfb982d5",
   "metadata": {},
   "outputs": [
    {
     "data": {
      "text/plain": [
       "xyz_concern                        0\n",
       "xyz_knowledge                      0\n",
       "behavioral_antiviral_meds          0\n",
       "behavioral_avoidance               0\n",
       "behavioral_face_mask               0\n",
       "behavioral_wash_hands              0\n",
       "behavioral_large_gatherings        0\n",
       "behavioral_outside_home            0\n",
       "behavioral_touch_face              0\n",
       "doctor_recc_xyz                    0\n",
       "doctor_recc_seasonal               0\n",
       "chronic_med_condition              0\n",
       "child_under_6_months               0\n",
       "health_worker                      0\n",
       "health_insurance                   0\n",
       "opinion_xyz_vacc_effective         0\n",
       "opinion_xyz_risk                   0\n",
       "opinion_xyz_sick_from_vacc         0\n",
       "opinion_seas_vacc_effective        0\n",
       "opinion_seas_risk                  0\n",
       "opinion_seas_sick_from_vacc        0\n",
       "age_group                          0\n",
       "education                       1407\n",
       "race                               0\n",
       "income_poverty                  4423\n",
       "marital_status                  1408\n",
       "rent_or_own                     2042\n",
       "employment_status               1463\n",
       "hhs_geo_region                     0\n",
       "census_msa                         0\n",
       "household_adults                   0\n",
       "household_children                 0\n",
       "employment_industry            13330\n",
       "employment_occupation          13470\n",
       "sex_new                            0\n",
       "dtype: int64"
      ]
     },
     "execution_count": 17,
     "metadata": {},
     "output_type": "execute_result"
    }
   ],
   "source": [
    "train_features.isna().sum()"
   ]
  },
  {
   "cell_type": "code",
   "execution_count": 246,
   "id": "4896b5ed",
   "metadata": {},
   "outputs": [
    {
     "data": {
      "text/plain": [
       "(26707, 35)"
      ]
     },
     "execution_count": 246,
     "metadata": {},
     "output_type": "execute_result"
    }
   ],
   "source": [
    "train_features.shape"
   ]
  },
  {
   "cell_type": "code",
   "execution_count": 83,
   "id": "b444a104",
   "metadata": {},
   "outputs": [
    {
     "data": {
      "text/plain": [
       "0    Employed\n",
       "Name: employment_status, dtype: object"
      ]
     },
     "execution_count": 83,
     "metadata": {},
     "output_type": "execute_result"
    }
   ],
   "source": [
    "train_features.employment_status.mode()"
   ]
  },
  {
   "cell_type": "code",
   "execution_count": 84,
   "id": "72e471f4",
   "metadata": {},
   "outputs": [],
   "source": [
    "train_features['employment_status'].fillna('Employed', inplace=True)"
   ]
  },
  {
   "cell_type": "code",
   "execution_count": 85,
   "id": "077595ce",
   "metadata": {},
   "outputs": [
    {
     "data": {
      "text/plain": [
       "0    <= $75,000, Above Poverty\n",
       "Name: income_poverty, dtype: object"
      ]
     },
     "execution_count": 85,
     "metadata": {},
     "output_type": "execute_result"
    }
   ],
   "source": [
    "train_features.income_poverty.mode()"
   ]
  },
  {
   "cell_type": "code",
   "execution_count": 86,
   "id": "3299ad89",
   "metadata": {},
   "outputs": [],
   "source": [
    "train_features['marital_status'].fillna('Married', inplace=True)"
   ]
  },
  {
   "cell_type": "code",
   "execution_count": 87,
   "id": "f320e9b9",
   "metadata": {},
   "outputs": [
    {
     "data": {
      "text/plain": [
       "0    College Graduate\n",
       "Name: education, dtype: object"
      ]
     },
     "execution_count": 87,
     "metadata": {},
     "output_type": "execute_result"
    }
   ],
   "source": [
    "train_features.education.mode()"
   ]
  },
  {
   "cell_type": "code",
   "execution_count": 88,
   "id": "8c09562b",
   "metadata": {},
   "outputs": [],
   "source": [
    "train_features['education'].fillna('College Graduate', inplace=True)"
   ]
  },
  {
   "cell_type": "code",
   "execution_count": 24,
   "id": "6d1e9ecf",
   "metadata": {},
   "outputs": [
    {
     "data": {
      "text/plain": [
       "0    Employed\n",
       "Name: employment_status, dtype: object"
      ]
     },
     "execution_count": 24,
     "metadata": {},
     "output_type": "execute_result"
    }
   ],
   "source": [
    "test_df.employment_status.mode()"
   ]
  },
  {
   "cell_type": "code",
   "execution_count": 25,
   "id": "31053a0c",
   "metadata": {},
   "outputs": [],
   "source": [
    "test_df['employment_status'].fillna('Employed', inplace=True)"
   ]
  },
  {
   "cell_type": "code",
   "execution_count": 26,
   "id": "c8423f35",
   "metadata": {},
   "outputs": [
    {
     "data": {
      "text/plain": [
       "0    Married\n",
       "Name: marital_status, dtype: object"
      ]
     },
     "execution_count": 26,
     "metadata": {},
     "output_type": "execute_result"
    }
   ],
   "source": [
    "test_df.marital_status.mode()"
   ]
  },
  {
   "cell_type": "code",
   "execution_count": 27,
   "id": "df7cf885",
   "metadata": {},
   "outputs": [],
   "source": [
    "test_df['marital_status'].fillna('Married', inplace=True)"
   ]
  },
  {
   "cell_type": "code",
   "execution_count": 28,
   "id": "377a04d1",
   "metadata": {},
   "outputs": [
    {
     "data": {
      "text/plain": [
       "0    College Graduate\n",
       "Name: education, dtype: object"
      ]
     },
     "execution_count": 28,
     "metadata": {},
     "output_type": "execute_result"
    }
   ],
   "source": [
    "test_df.education.mode()"
   ]
  },
  {
   "cell_type": "code",
   "execution_count": 29,
   "id": "b15429ed",
   "metadata": {},
   "outputs": [],
   "source": [
    "test_df['education'].fillna('College Graduate', inplace=True)"
   ]
  },
  {
   "cell_type": "code",
   "execution_count": 30,
   "id": "a4b4668e",
   "metadata": {
    "scrolled": true
   },
   "outputs": [
    {
     "data": {
      "text/plain": [
       "respondent_id                      0\n",
       "xyz_concern                       85\n",
       "xyz_knowledge                    122\n",
       "behavioral_antiviral_meds         79\n",
       "behavioral_avoidance             213\n",
       "behavioral_face_mask              19\n",
       "behavioral_wash_hands             40\n",
       "behavioral_large_gatherings       72\n",
       "behavioral_outside_home           82\n",
       "behavioral_touch_face            128\n",
       "doctor_recc_xyz                 2160\n",
       "doctor_recc_seasonal            2160\n",
       "chronic_med_condition            932\n",
       "child_under_6_months             813\n",
       "health_worker                    789\n",
       "health_insurance               12228\n",
       "opinion_xyz_vacc_effective       398\n",
       "opinion_xyz_risk                 380\n",
       "opinion_xyz_sick_from_vacc       375\n",
       "opinion_seas_vacc_effective      452\n",
       "opinion_seas_risk                499\n",
       "opinion_seas_sick_from_vacc      521\n",
       "age_group                          0\n",
       "education                          0\n",
       "race                               0\n",
       "income_poverty                  4497\n",
       "marital_status                     0\n",
       "rent_or_own                     2036\n",
       "employment_status                  0\n",
       "hhs_geo_region                     0\n",
       "census_msa                         0\n",
       "household_adults                 225\n",
       "household_children               225\n",
       "employment_industry            13275\n",
       "employment_occupation          13426\n",
       "sex_new                            0\n",
       "dtype: int64"
      ]
     },
     "execution_count": 30,
     "metadata": {},
     "output_type": "execute_result"
    }
   ],
   "source": [
    "test_df.isna().sum()"
   ]
  },
  {
   "cell_type": "code",
   "execution_count": 31,
   "id": "0e3d512e",
   "metadata": {},
   "outputs": [],
   "source": [
    "test_df[numeric_cols] = knn.transform(test_df[numeric_cols])\n"
   ]
  },
  {
   "cell_type": "code",
   "execution_count": 263,
   "id": "4000aed5",
   "metadata": {},
   "outputs": [
    {
     "data": {
      "text/plain": [
       "array(['Own', 'Rent', nan], dtype=object)"
      ]
     },
     "execution_count": 263,
     "metadata": {},
     "output_type": "execute_result"
    }
   ],
   "source": [
    "train_features.rent_or_own.unique()"
   ]
  },
  {
   "cell_type": "code",
   "execution_count": 136,
   "id": "279bd1fa",
   "metadata": {},
   "outputs": [],
   "source": [
    "train_features['rent_or_own'].fillna('Missing',inplace=True)"
   ]
  },
  {
   "cell_type": "code",
   "execution_count": 33,
   "id": "3e5a933e",
   "metadata": {},
   "outputs": [],
   "source": [
    "test_df['rent_or_own'].fillna('Missing',inplace=True)"
   ]
  },
  {
   "cell_type": "code",
   "execution_count": 34,
   "id": "5dfcfdd2",
   "metadata": {},
   "outputs": [
    {
     "data": {
      "text/plain": [
       "Own        18736\n",
       "Rent        5929\n",
       "Missing     2042\n",
       "Name: rent_or_own, dtype: int64"
      ]
     },
     "execution_count": 34,
     "metadata": {},
     "output_type": "execute_result"
    }
   ],
   "source": [
    "train_features.rent_or_own.value_counts()"
   ]
  },
  {
   "cell_type": "code",
   "execution_count": 173,
   "id": "bb5f30e6",
   "metadata": {},
   "outputs": [],
   "source": [
    "categorical_cols = train_features.columns[train_features.dtypes == \"object\"].values\n"
   ]
  },
  {
   "cell_type": "code",
   "execution_count": 174,
   "id": "6433b760",
   "metadata": {},
   "outputs": [
    {
     "data": {
      "text/plain": [
       "array(['income_poverty'], dtype=object)"
      ]
     },
     "execution_count": 174,
     "metadata": {},
     "output_type": "execute_result"
    }
   ],
   "source": [
    "categorical_cols\n"
   ]
  },
  {
   "cell_type": "code",
   "execution_count": 177,
   "id": "fed79283",
   "metadata": {},
   "outputs": [
    {
     "data": {
      "text/plain": [
       "{'<= $75,000, Above Poverty': 12775,\n",
       " '> $75,000': 6863,\n",
       " 'Missing': 4497,\n",
       " 'Below Poverty': 2573}"
      ]
     },
     "execution_count": 177,
     "metadata": {},
     "output_type": "execute_result"
    }
   ],
   "source": [
    "df_map = test_df['income_poverty'].value_counts().to_dict()\n",
    "df_map"
   ]
  },
  {
   "cell_type": "code",
   "execution_count": 178,
   "id": "5814878c",
   "metadata": {},
   "outputs": [],
   "source": [
    "test_df['income_poverty']= test_df.income_poverty.map(df_map)"
   ]
  },
  {
   "cell_type": "code",
   "execution_count": 273,
   "id": "d1bbe0d6",
   "metadata": {},
   "outputs": [
    {
     "data": {
      "text/html": [
       "<div>\n",
       "<style scoped>\n",
       "    .dataframe tbody tr th:only-of-type {\n",
       "        vertical-align: middle;\n",
       "    }\n",
       "\n",
       "    .dataframe tbody tr th {\n",
       "        vertical-align: top;\n",
       "    }\n",
       "\n",
       "    .dataframe thead th {\n",
       "        text-align: right;\n",
       "    }\n",
       "</style>\n",
       "<table border=\"1\" class=\"dataframe\">\n",
       "  <thead>\n",
       "    <tr style=\"text-align: right;\">\n",
       "      <th></th>\n",
       "      <th>respondent_id</th>\n",
       "      <th>xyz_concern</th>\n",
       "      <th>xyz_knowledge</th>\n",
       "      <th>behavioral_antiviral_meds</th>\n",
       "      <th>behavioral_avoidance</th>\n",
       "      <th>behavioral_face_mask</th>\n",
       "      <th>behavioral_wash_hands</th>\n",
       "      <th>behavioral_large_gatherings</th>\n",
       "      <th>behavioral_outside_home</th>\n",
       "      <th>behavioral_touch_face</th>\n",
       "      <th>...</th>\n",
       "      <th>marital_status</th>\n",
       "      <th>rent_or_own</th>\n",
       "      <th>employment_status</th>\n",
       "      <th>hhs_geo_region</th>\n",
       "      <th>census_msa</th>\n",
       "      <th>household_adults</th>\n",
       "      <th>household_children</th>\n",
       "      <th>employment_industry</th>\n",
       "      <th>employment_occupation</th>\n",
       "      <th>sex_new</th>\n",
       "    </tr>\n",
       "  </thead>\n",
       "  <tbody>\n",
       "    <tr>\n",
       "      <th>0</th>\n",
       "      <td>26707</td>\n",
       "      <td>2.0</td>\n",
       "      <td>2.0</td>\n",
       "      <td>0.0</td>\n",
       "      <td>1.0</td>\n",
       "      <td>0.0</td>\n",
       "      <td>1.0</td>\n",
       "      <td>1.0</td>\n",
       "      <td>0.0</td>\n",
       "      <td>1.0</td>\n",
       "      <td>...</td>\n",
       "      <td>Not Married</td>\n",
       "      <td>Rent</td>\n",
       "      <td>Employed</td>\n",
       "      <td>2183</td>\n",
       "      <td>MSA, Not Principle  City</td>\n",
       "      <td>1.0</td>\n",
       "      <td>0.0</td>\n",
       "      <td>atmlpfrs</td>\n",
       "      <td>hfxkjkmi</td>\n",
       "      <td>0</td>\n",
       "    </tr>\n",
       "    <tr>\n",
       "      <th>1</th>\n",
       "      <td>26708</td>\n",
       "      <td>1.0</td>\n",
       "      <td>1.0</td>\n",
       "      <td>0.0</td>\n",
       "      <td>0.0</td>\n",
       "      <td>0.0</td>\n",
       "      <td>0.0</td>\n",
       "      <td>0.0</td>\n",
       "      <td>0.0</td>\n",
       "      <td>0.0</td>\n",
       "      <td>...</td>\n",
       "      <td>Not Married</td>\n",
       "      <td>Rent</td>\n",
       "      <td>Employed</td>\n",
       "      <td>2867</td>\n",
       "      <td>Non-MSA</td>\n",
       "      <td>3.0</td>\n",
       "      <td>0.0</td>\n",
       "      <td>atmlpfrs</td>\n",
       "      <td>xqwwgdyp</td>\n",
       "      <td>1</td>\n",
       "    </tr>\n",
       "    <tr>\n",
       "      <th>2</th>\n",
       "      <td>26709</td>\n",
       "      <td>2.0</td>\n",
       "      <td>2.0</td>\n",
       "      <td>0.0</td>\n",
       "      <td>0.0</td>\n",
       "      <td>1.0</td>\n",
       "      <td>1.0</td>\n",
       "      <td>1.0</td>\n",
       "      <td>1.0</td>\n",
       "      <td>1.0</td>\n",
       "      <td>...</td>\n",
       "      <td>Married</td>\n",
       "      <td>Own</td>\n",
       "      <td>Employed</td>\n",
       "      <td>2022</td>\n",
       "      <td>Non-MSA</td>\n",
       "      <td>1.0</td>\n",
       "      <td>0.0</td>\n",
       "      <td>nduyfdeo</td>\n",
       "      <td>pvmttkik</td>\n",
       "      <td>1</td>\n",
       "    </tr>\n",
       "    <tr>\n",
       "      <th>3</th>\n",
       "      <td>26710</td>\n",
       "      <td>1.0</td>\n",
       "      <td>1.0</td>\n",
       "      <td>0.0</td>\n",
       "      <td>0.0</td>\n",
       "      <td>0.0</td>\n",
       "      <td>0.0</td>\n",
       "      <td>0.0</td>\n",
       "      <td>0.0</td>\n",
       "      <td>0.0</td>\n",
       "      <td>...</td>\n",
       "      <td>Married</td>\n",
       "      <td>Own</td>\n",
       "      <td>Not in Labor Force</td>\n",
       "      <td>2022</td>\n",
       "      <td>MSA, Not Principle  City</td>\n",
       "      <td>1.0</td>\n",
       "      <td>0.0</td>\n",
       "      <td>NaN</td>\n",
       "      <td>NaN</td>\n",
       "      <td>0</td>\n",
       "    </tr>\n",
       "    <tr>\n",
       "      <th>4</th>\n",
       "      <td>26711</td>\n",
       "      <td>3.0</td>\n",
       "      <td>1.0</td>\n",
       "      <td>1.0</td>\n",
       "      <td>1.0</td>\n",
       "      <td>0.0</td>\n",
       "      <td>1.0</td>\n",
       "      <td>1.0</td>\n",
       "      <td>1.0</td>\n",
       "      <td>1.0</td>\n",
       "      <td>...</td>\n",
       "      <td>Not Married</td>\n",
       "      <td>Own</td>\n",
       "      <td>Employed</td>\n",
       "      <td>4363</td>\n",
       "      <td>Non-MSA</td>\n",
       "      <td>0.0</td>\n",
       "      <td>1.0</td>\n",
       "      <td>fcxhlnwr</td>\n",
       "      <td>mxkfnird</td>\n",
       "      <td>0</td>\n",
       "    </tr>\n",
       "  </tbody>\n",
       "</table>\n",
       "<p>5 rows × 36 columns</p>\n",
       "</div>"
      ],
      "text/plain": [
       "   respondent_id  xyz_concern  xyz_knowledge  behavioral_antiviral_meds  \\\n",
       "0          26707          2.0            2.0                        0.0   \n",
       "1          26708          1.0            1.0                        0.0   \n",
       "2          26709          2.0            2.0                        0.0   \n",
       "3          26710          1.0            1.0                        0.0   \n",
       "4          26711          3.0            1.0                        1.0   \n",
       "\n",
       "   behavioral_avoidance  behavioral_face_mask  behavioral_wash_hands  \\\n",
       "0                   1.0                   0.0                    1.0   \n",
       "1                   0.0                   0.0                    0.0   \n",
       "2                   0.0                   1.0                    1.0   \n",
       "3                   0.0                   0.0                    0.0   \n",
       "4                   1.0                   0.0                    1.0   \n",
       "\n",
       "   behavioral_large_gatherings  behavioral_outside_home  \\\n",
       "0                          1.0                      0.0   \n",
       "1                          0.0                      0.0   \n",
       "2                          1.0                      1.0   \n",
       "3                          0.0                      0.0   \n",
       "4                          1.0                      1.0   \n",
       "\n",
       "   behavioral_touch_face  ...  marital_status  rent_or_own  \\\n",
       "0                    1.0  ...     Not Married         Rent   \n",
       "1                    0.0  ...     Not Married         Rent   \n",
       "2                    1.0  ...         Married          Own   \n",
       "3                    0.0  ...         Married          Own   \n",
       "4                    1.0  ...     Not Married          Own   \n",
       "\n",
       "    employment_status  hhs_geo_region                census_msa  \\\n",
       "0            Employed            2183  MSA, Not Principle  City   \n",
       "1            Employed            2867                   Non-MSA   \n",
       "2            Employed            2022                   Non-MSA   \n",
       "3  Not in Labor Force            2022  MSA, Not Principle  City   \n",
       "4            Employed            4363                   Non-MSA   \n",
       "\n",
       "   household_adults  household_children  employment_industry  \\\n",
       "0               1.0                 0.0             atmlpfrs   \n",
       "1               3.0                 0.0             atmlpfrs   \n",
       "2               1.0                 0.0             nduyfdeo   \n",
       "3               1.0                 0.0                  NaN   \n",
       "4               0.0                 1.0             fcxhlnwr   \n",
       "\n",
       "   employment_occupation  sex_new  \n",
       "0               hfxkjkmi        0  \n",
       "1               xqwwgdyp        1  \n",
       "2               pvmttkik        1  \n",
       "3                    NaN        0  \n",
       "4               mxkfnird        0  \n",
       "\n",
       "[5 rows x 36 columns]"
      ]
     },
     "execution_count": 273,
     "metadata": {},
     "output_type": "execute_result"
    }
   ],
   "source": [
    "test_df.head()"
   ]
  },
  {
   "cell_type": "code",
   "execution_count": 55,
   "id": "bdafb01f",
   "metadata": {},
   "outputs": [
    {
     "data": {
      "text/plain": [
       "xyz_concern                        0\n",
       "xyz_knowledge                      0\n",
       "behavioral_antiviral_meds          0\n",
       "behavioral_avoidance               0\n",
       "behavioral_face_mask               0\n",
       "behavioral_wash_hands              0\n",
       "behavioral_large_gatherings        0\n",
       "behavioral_outside_home            0\n",
       "behavioral_touch_face              0\n",
       "doctor_recc_xyz                    0\n",
       "doctor_recc_seasonal               0\n",
       "chronic_med_condition              0\n",
       "child_under_6_months               0\n",
       "health_worker                      0\n",
       "health_insurance                   0\n",
       "opinion_xyz_vacc_effective         0\n",
       "opinion_xyz_risk                   0\n",
       "opinion_xyz_sick_from_vacc         0\n",
       "opinion_seas_vacc_effective        0\n",
       "opinion_seas_risk                  0\n",
       "opinion_seas_sick_from_vacc        0\n",
       "age_group                          0\n",
       "education                          0\n",
       "race                               0\n",
       "income_poverty                  4423\n",
       "marital_status                     0\n",
       "rent_or_own                        0\n",
       "employment_status                  0\n",
       "hhs_geo_region                     0\n",
       "census_msa                         0\n",
       "household_adults                   0\n",
       "household_children                 0\n",
       "employment_industry            13330\n",
       "employment_occupation          13470\n",
       "sex_new                            0\n",
       "dtype: int64"
      ]
     },
     "execution_count": 55,
     "metadata": {},
     "output_type": "execute_result"
    }
   ],
   "source": [
    "train_features.isna().sum()"
   ]
  },
  {
   "cell_type": "code",
   "execution_count": 115,
   "id": "90940254",
   "metadata": {},
   "outputs": [
    {
     "data": {
      "text/plain": [
       "array(['xyz_concern', 'xyz_knowledge', 'behavioral_antiviral_meds',\n",
       "       'behavioral_avoidance', 'behavioral_face_mask',\n",
       "       'behavioral_wash_hands', 'behavioral_large_gatherings',\n",
       "       'behavioral_outside_home', 'behavioral_touch_face',\n",
       "       'doctor_recc_xyz', 'doctor_recc_seasonal', 'chronic_med_condition',\n",
       "       'child_under_6_months', 'health_worker', 'health_insurance',\n",
       "       'opinion_xyz_vacc_effective', 'opinion_xyz_risk',\n",
       "       'opinion_xyz_sick_from_vacc', 'opinion_seas_vacc_effective',\n",
       "       'opinion_seas_risk', 'opinion_seas_sick_from_vacc', 'age_group',\n",
       "       'education', 'race', 'marital_status', 'rent_or_own',\n",
       "       'employment_status', 'hhs_geo_region', 'census_msa',\n",
       "       'household_adults', 'household_children', 'sex_new'], dtype=object)"
      ]
     },
     "execution_count": 115,
     "metadata": {},
     "output_type": "execute_result"
    }
   ],
   "source": [
    "numeric_cols = train_features.columns[test_df.dtypes != \"object\"].values\n",
    "numeric_cols"
   ]
  },
  {
   "cell_type": "code",
   "execution_count": 110,
   "id": "97510735",
   "metadata": {},
   "outputs": [],
   "source": [
    "scaling = StandardScaler()"
   ]
  },
  {
   "cell_type": "code",
   "execution_count": 113,
   "id": "b8d611cc",
   "metadata": {},
   "outputs": [],
   "source": [
    "test_df.drop('respondent_id', inplace=True,axis=1)"
   ]
  },
  {
   "cell_type": "code",
   "execution_count": 179,
   "id": "b21bb748",
   "metadata": {},
   "outputs": [
    {
     "data": {
      "text/plain": [
       "array([[-0.67939401, -2.04317637, -0.22707496, ..., -1.18006913,\n",
       "        -0.57773956, -0.82712405],\n",
       "       [ 1.51949541,  1.19609295, -0.22707496, ..., -1.18006913,\n",
       "        -0.57773956,  1.20900849],\n",
       "       [-0.67939401, -0.42354171, -0.22707496, ...,  1.48459988,\n",
       "        -0.57773956,  1.20900849],\n",
       "       ...,\n",
       "       [ 0.4200507 ,  1.19609295, -0.22707496, ..., -1.18006913,\n",
       "        -0.57773956, -0.82712405],\n",
       "       [-0.67939401, -0.42354171, -0.22707496, ...,  0.15226538,\n",
       "        -0.57773956, -0.82712405],\n",
       "       [-1.77883873, -2.04317637, -0.22707496, ...,  0.15226538,\n",
       "        -0.57773956,  1.20900849]])"
      ]
     },
     "execution_count": 179,
     "metadata": {},
     "output_type": "execute_result"
    }
   ],
   "source": [
    "scaling.fit_transform(train_features[numeric_cols])"
   ]
  },
  {
   "cell_type": "code",
   "execution_count": 180,
   "id": "18747211",
   "metadata": {},
   "outputs": [],
   "source": [
    "train_features[numeric_cols] = scaling.transform(train_features[numeric_cols])\n",
    "test_df[numeric_cols] = scaling.transform(test_df[numeric_cols])"
   ]
  },
  {
   "cell_type": "code",
   "execution_count": 181,
   "id": "899cb4a9",
   "metadata": {},
   "outputs": [
    {
     "data": {
      "text/html": [
       "<div>\n",
       "<style scoped>\n",
       "    .dataframe tbody tr th:only-of-type {\n",
       "        vertical-align: middle;\n",
       "    }\n",
       "\n",
       "    .dataframe tbody tr th {\n",
       "        vertical-align: top;\n",
       "    }\n",
       "\n",
       "    .dataframe thead th {\n",
       "        text-align: right;\n",
       "    }\n",
       "</style>\n",
       "<table border=\"1\" class=\"dataframe\">\n",
       "  <thead>\n",
       "    <tr style=\"text-align: right;\">\n",
       "      <th></th>\n",
       "      <th>xyz_concern</th>\n",
       "      <th>xyz_knowledge</th>\n",
       "      <th>behavioral_antiviral_meds</th>\n",
       "      <th>behavioral_avoidance</th>\n",
       "      <th>behavioral_face_mask</th>\n",
       "      <th>behavioral_wash_hands</th>\n",
       "      <th>behavioral_large_gatherings</th>\n",
       "      <th>behavioral_outside_home</th>\n",
       "      <th>behavioral_touch_face</th>\n",
       "      <th>doctor_recc_xyz</th>\n",
       "      <th>...</th>\n",
       "      <th>race</th>\n",
       "      <th>income_poverty</th>\n",
       "      <th>marital_status</th>\n",
       "      <th>rent_or_own</th>\n",
       "      <th>employment_status</th>\n",
       "      <th>hhs_geo_region</th>\n",
       "      <th>census_msa</th>\n",
       "      <th>household_adults</th>\n",
       "      <th>household_children</th>\n",
       "      <th>sex_new</th>\n",
       "    </tr>\n",
       "  </thead>\n",
       "  <tbody>\n",
       "    <tr>\n",
       "      <th>0</th>\n",
       "      <td>-0.679394</td>\n",
       "      <td>-2.043176</td>\n",
       "      <td>-0.227075</td>\n",
       "      <td>-1.626549</td>\n",
       "      <td>-0.272576</td>\n",
       "      <td>-2.176822</td>\n",
       "      <td>-0.748583</td>\n",
       "      <td>1.402714</td>\n",
       "      <td>0.691919</td>\n",
       "      <td>-0.544766</td>\n",
       "      <td>...</td>\n",
       "      <td>0.508348</td>\n",
       "      <td>2697</td>\n",
       "      <td>-1.128759</td>\n",
       "      <td>0.645342</td>\n",
       "      <td>-0.635275</td>\n",
       "      <td>-0.075655</td>\n",
       "      <td>-1.042496</td>\n",
       "      <td>-1.180069</td>\n",
       "      <td>-0.57774</td>\n",
       "      <td>-0.827124</td>\n",
       "    </tr>\n",
       "    <tr>\n",
       "      <th>1</th>\n",
       "      <td>1.519495</td>\n",
       "      <td>1.196093</td>\n",
       "      <td>-0.227075</td>\n",
       "      <td>0.618912</td>\n",
       "      <td>-0.272576</td>\n",
       "      <td>0.459940</td>\n",
       "      <td>-0.748583</td>\n",
       "      <td>1.402714</td>\n",
       "      <td>0.691919</td>\n",
       "      <td>-0.544766</td>\n",
       "      <td>...</td>\n",
       "      <td>0.508348</td>\n",
       "      <td>2697</td>\n",
       "      <td>-1.128759</td>\n",
       "      <td>-1.360902</td>\n",
       "      <td>0.737248</td>\n",
       "      <td>-0.092245</td>\n",
       "      <td>1.128798</td>\n",
       "      <td>-1.180069</td>\n",
       "      <td>-0.57774</td>\n",
       "      <td>1.209008</td>\n",
       "    </tr>\n",
       "    <tr>\n",
       "      <th>2</th>\n",
       "      <td>-0.679394</td>\n",
       "      <td>-0.423542</td>\n",
       "      <td>-0.227075</td>\n",
       "      <td>0.618912</td>\n",
       "      <td>-0.272576</td>\n",
       "      <td>-2.176822</td>\n",
       "      <td>-0.748583</td>\n",
       "      <td>-0.714493</td>\n",
       "      <td>-1.450582</td>\n",
       "      <td>-0.544766</td>\n",
       "      <td>...</td>\n",
       "      <td>0.508348</td>\n",
       "      <td>12777</td>\n",
       "      <td>-1.128759</td>\n",
       "      <td>0.645342</td>\n",
       "      <td>0.737248</td>\n",
       "      <td>0.234433</td>\n",
       "      <td>1.128798</td>\n",
       "      <td>1.484600</td>\n",
       "      <td>-0.57774</td>\n",
       "      <td>1.209008</td>\n",
       "    </tr>\n",
       "    <tr>\n",
       "      <th>3</th>\n",
       "      <td>-0.679394</td>\n",
       "      <td>-0.423542</td>\n",
       "      <td>-0.227075</td>\n",
       "      <td>0.618912</td>\n",
       "      <td>-0.272576</td>\n",
       "      <td>0.459940</td>\n",
       "      <td>1.338524</td>\n",
       "      <td>-0.714493</td>\n",
       "      <td>-1.450582</td>\n",
       "      <td>-0.544766</td>\n",
       "      <td>...</td>\n",
       "      <td>0.508348</td>\n",
       "      <td>2697</td>\n",
       "      <td>-1.128759</td>\n",
       "      <td>-1.360902</td>\n",
       "      <td>-0.635275</td>\n",
       "      <td>-1.072276</td>\n",
       "      <td>-0.717315</td>\n",
       "      <td>-1.180069</td>\n",
       "      <td>-0.57774</td>\n",
       "      <td>-0.827124</td>\n",
       "    </tr>\n",
       "    <tr>\n",
       "      <th>4</th>\n",
       "      <td>0.420051</td>\n",
       "      <td>-0.423542</td>\n",
       "      <td>-0.227075</td>\n",
       "      <td>0.618912</td>\n",
       "      <td>-0.272576</td>\n",
       "      <td>0.459940</td>\n",
       "      <td>1.338524</td>\n",
       "      <td>-0.714493</td>\n",
       "      <td>0.691919</td>\n",
       "      <td>-0.544766</td>\n",
       "      <td>...</td>\n",
       "      <td>0.508348</td>\n",
       "      <td>12777</td>\n",
       "      <td>0.885929</td>\n",
       "      <td>0.645342</td>\n",
       "      <td>0.737248</td>\n",
       "      <td>0.234433</td>\n",
       "      <td>1.128798</td>\n",
       "      <td>0.152265</td>\n",
       "      <td>-0.57774</td>\n",
       "      <td>-0.827124</td>\n",
       "    </tr>\n",
       "  </tbody>\n",
       "</table>\n",
       "<p>5 rows × 33 columns</p>\n",
       "</div>"
      ],
      "text/plain": [
       "   xyz_concern  xyz_knowledge  behavioral_antiviral_meds  \\\n",
       "0    -0.679394      -2.043176                  -0.227075   \n",
       "1     1.519495       1.196093                  -0.227075   \n",
       "2    -0.679394      -0.423542                  -0.227075   \n",
       "3    -0.679394      -0.423542                  -0.227075   \n",
       "4     0.420051      -0.423542                  -0.227075   \n",
       "\n",
       "   behavioral_avoidance  behavioral_face_mask  behavioral_wash_hands  \\\n",
       "0             -1.626549             -0.272576              -2.176822   \n",
       "1              0.618912             -0.272576               0.459940   \n",
       "2              0.618912             -0.272576              -2.176822   \n",
       "3              0.618912             -0.272576               0.459940   \n",
       "4              0.618912             -0.272576               0.459940   \n",
       "\n",
       "   behavioral_large_gatherings  behavioral_outside_home  \\\n",
       "0                    -0.748583                 1.402714   \n",
       "1                    -0.748583                 1.402714   \n",
       "2                    -0.748583                -0.714493   \n",
       "3                     1.338524                -0.714493   \n",
       "4                     1.338524                -0.714493   \n",
       "\n",
       "   behavioral_touch_face  doctor_recc_xyz  ...      race  income_poverty  \\\n",
       "0               0.691919        -0.544766  ...  0.508348            2697   \n",
       "1               0.691919        -0.544766  ...  0.508348            2697   \n",
       "2              -1.450582        -0.544766  ...  0.508348           12777   \n",
       "3              -1.450582        -0.544766  ...  0.508348            2697   \n",
       "4               0.691919        -0.544766  ...  0.508348           12777   \n",
       "\n",
       "   marital_status  rent_or_own  employment_status  hhs_geo_region  census_msa  \\\n",
       "0       -1.128759     0.645342          -0.635275       -0.075655   -1.042496   \n",
       "1       -1.128759    -1.360902           0.737248       -0.092245    1.128798   \n",
       "2       -1.128759     0.645342           0.737248        0.234433    1.128798   \n",
       "3       -1.128759    -1.360902          -0.635275       -1.072276   -0.717315   \n",
       "4        0.885929     0.645342           0.737248        0.234433    1.128798   \n",
       "\n",
       "   household_adults  household_children   sex_new  \n",
       "0         -1.180069            -0.57774 -0.827124  \n",
       "1         -1.180069            -0.57774  1.209008  \n",
       "2          1.484600            -0.57774  1.209008  \n",
       "3         -1.180069            -0.57774 -0.827124  \n",
       "4          0.152265            -0.57774 -0.827124  \n",
       "\n",
       "[5 rows x 33 columns]"
      ]
     },
     "execution_count": 181,
     "metadata": {},
     "output_type": "execute_result"
    }
   ],
   "source": [
    "train_features.head()"
   ]
  },
  {
   "cell_type": "code",
   "execution_count": 146,
   "id": "3c60d284",
   "metadata": {},
   "outputs": [
    {
     "data": {
      "text/plain": [
       "array(['income_poverty', 'employment_industry', 'employment_occupation'],\n",
       "      dtype=object)"
      ]
     },
     "execution_count": 146,
     "metadata": {},
     "output_type": "execute_result"
    }
   ],
   "source": [
    "categorical_cols = train_features.columns[train_features.dtypes == \"object\"].values\n",
    "categorical_cols"
   ]
  },
  {
   "cell_type": "code",
   "execution_count": 161,
   "id": "c37b7a8e",
   "metadata": {},
   "outputs": [
    {
     "data": {
      "text/html": [
       "<div>\n",
       "<style scoped>\n",
       "    .dataframe tbody tr th:only-of-type {\n",
       "        vertical-align: middle;\n",
       "    }\n",
       "\n",
       "    .dataframe tbody tr th {\n",
       "        vertical-align: top;\n",
       "    }\n",
       "\n",
       "    .dataframe thead th {\n",
       "        text-align: right;\n",
       "    }\n",
       "</style>\n",
       "<table border=\"1\" class=\"dataframe\">\n",
       "  <thead>\n",
       "    <tr style=\"text-align: right;\">\n",
       "      <th></th>\n",
       "      <th>xyz_concern</th>\n",
       "      <th>xyz_knowledge</th>\n",
       "      <th>behavioral_antiviral_meds</th>\n",
       "      <th>behavioral_avoidance</th>\n",
       "      <th>behavioral_face_mask</th>\n",
       "      <th>behavioral_wash_hands</th>\n",
       "      <th>behavioral_large_gatherings</th>\n",
       "      <th>behavioral_outside_home</th>\n",
       "      <th>behavioral_touch_face</th>\n",
       "      <th>doctor_recc_xyz</th>\n",
       "      <th>...</th>\n",
       "      <th>employment_occupation_rcertsgn</th>\n",
       "      <th>employment_occupation_tfqavkke</th>\n",
       "      <th>employment_occupation_ukymxvdu</th>\n",
       "      <th>employment_occupation_uqqtjvyb</th>\n",
       "      <th>employment_occupation_vlluhbov</th>\n",
       "      <th>employment_occupation_xgwztkwe</th>\n",
       "      <th>employment_occupation_xqwwgdyp</th>\n",
       "      <th>employment_occupation_xtkaffoo</th>\n",
       "      <th>employment_occupation_xzmlyyjv</th>\n",
       "      <th>employment_occupation_nan</th>\n",
       "    </tr>\n",
       "  </thead>\n",
       "  <tbody>\n",
       "    <tr>\n",
       "      <th>0</th>\n",
       "      <td>-0.679394</td>\n",
       "      <td>-2.043176</td>\n",
       "      <td>-0.227075</td>\n",
       "      <td>-1.626549</td>\n",
       "      <td>-0.272576</td>\n",
       "      <td>-2.176822</td>\n",
       "      <td>-0.748583</td>\n",
       "      <td>1.402714</td>\n",
       "      <td>0.691919</td>\n",
       "      <td>-0.544766</td>\n",
       "      <td>...</td>\n",
       "      <td>0.0</td>\n",
       "      <td>0.0</td>\n",
       "      <td>0.0</td>\n",
       "      <td>0.0</td>\n",
       "      <td>0.0</td>\n",
       "      <td>0.0</td>\n",
       "      <td>0.0</td>\n",
       "      <td>0.0</td>\n",
       "      <td>0.0</td>\n",
       "      <td>1.0</td>\n",
       "    </tr>\n",
       "    <tr>\n",
       "      <th>1</th>\n",
       "      <td>1.519495</td>\n",
       "      <td>1.196093</td>\n",
       "      <td>-0.227075</td>\n",
       "      <td>0.618912</td>\n",
       "      <td>-0.272576</td>\n",
       "      <td>0.459940</td>\n",
       "      <td>-0.748583</td>\n",
       "      <td>1.402714</td>\n",
       "      <td>0.691919</td>\n",
       "      <td>-0.544766</td>\n",
       "      <td>...</td>\n",
       "      <td>0.0</td>\n",
       "      <td>0.0</td>\n",
       "      <td>0.0</td>\n",
       "      <td>0.0</td>\n",
       "      <td>0.0</td>\n",
       "      <td>1.0</td>\n",
       "      <td>0.0</td>\n",
       "      <td>0.0</td>\n",
       "      <td>0.0</td>\n",
       "      <td>0.0</td>\n",
       "    </tr>\n",
       "    <tr>\n",
       "      <th>2</th>\n",
       "      <td>-0.679394</td>\n",
       "      <td>-0.423542</td>\n",
       "      <td>-0.227075</td>\n",
       "      <td>0.618912</td>\n",
       "      <td>-0.272576</td>\n",
       "      <td>-2.176822</td>\n",
       "      <td>-0.748583</td>\n",
       "      <td>-0.714493</td>\n",
       "      <td>-1.450582</td>\n",
       "      <td>-0.544766</td>\n",
       "      <td>...</td>\n",
       "      <td>0.0</td>\n",
       "      <td>0.0</td>\n",
       "      <td>0.0</td>\n",
       "      <td>0.0</td>\n",
       "      <td>0.0</td>\n",
       "      <td>0.0</td>\n",
       "      <td>0.0</td>\n",
       "      <td>1.0</td>\n",
       "      <td>0.0</td>\n",
       "      <td>0.0</td>\n",
       "    </tr>\n",
       "    <tr>\n",
       "      <th>3</th>\n",
       "      <td>-0.679394</td>\n",
       "      <td>-0.423542</td>\n",
       "      <td>-0.227075</td>\n",
       "      <td>0.618912</td>\n",
       "      <td>-0.272576</td>\n",
       "      <td>0.459940</td>\n",
       "      <td>1.338524</td>\n",
       "      <td>-0.714493</td>\n",
       "      <td>-1.450582</td>\n",
       "      <td>-0.544766</td>\n",
       "      <td>...</td>\n",
       "      <td>0.0</td>\n",
       "      <td>0.0</td>\n",
       "      <td>0.0</td>\n",
       "      <td>0.0</td>\n",
       "      <td>0.0</td>\n",
       "      <td>0.0</td>\n",
       "      <td>0.0</td>\n",
       "      <td>0.0</td>\n",
       "      <td>0.0</td>\n",
       "      <td>1.0</td>\n",
       "    </tr>\n",
       "    <tr>\n",
       "      <th>4</th>\n",
       "      <td>0.420051</td>\n",
       "      <td>-0.423542</td>\n",
       "      <td>-0.227075</td>\n",
       "      <td>0.618912</td>\n",
       "      <td>-0.272576</td>\n",
       "      <td>0.459940</td>\n",
       "      <td>1.338524</td>\n",
       "      <td>-0.714493</td>\n",
       "      <td>0.691919</td>\n",
       "      <td>-0.544766</td>\n",
       "      <td>...</td>\n",
       "      <td>0.0</td>\n",
       "      <td>0.0</td>\n",
       "      <td>0.0</td>\n",
       "      <td>0.0</td>\n",
       "      <td>0.0</td>\n",
       "      <td>0.0</td>\n",
       "      <td>0.0</td>\n",
       "      <td>0.0</td>\n",
       "      <td>0.0</td>\n",
       "      <td>0.0</td>\n",
       "    </tr>\n",
       "  </tbody>\n",
       "</table>\n",
       "<p>5 rows × 85 columns</p>\n",
       "</div>"
      ],
      "text/plain": [
       "   xyz_concern  xyz_knowledge  behavioral_antiviral_meds  \\\n",
       "0    -0.679394      -2.043176                  -0.227075   \n",
       "1     1.519495       1.196093                  -0.227075   \n",
       "2    -0.679394      -0.423542                  -0.227075   \n",
       "3    -0.679394      -0.423542                  -0.227075   \n",
       "4     0.420051      -0.423542                  -0.227075   \n",
       "\n",
       "   behavioral_avoidance  behavioral_face_mask  behavioral_wash_hands  \\\n",
       "0             -1.626549             -0.272576              -2.176822   \n",
       "1              0.618912             -0.272576               0.459940   \n",
       "2              0.618912             -0.272576              -2.176822   \n",
       "3              0.618912             -0.272576               0.459940   \n",
       "4              0.618912             -0.272576               0.459940   \n",
       "\n",
       "   behavioral_large_gatherings  behavioral_outside_home  \\\n",
       "0                    -0.748583                 1.402714   \n",
       "1                    -0.748583                 1.402714   \n",
       "2                    -0.748583                -0.714493   \n",
       "3                     1.338524                -0.714493   \n",
       "4                     1.338524                -0.714493   \n",
       "\n",
       "   behavioral_touch_face  doctor_recc_xyz  ...  \\\n",
       "0               0.691919        -0.544766  ...   \n",
       "1               0.691919        -0.544766  ...   \n",
       "2              -1.450582        -0.544766  ...   \n",
       "3              -1.450582        -0.544766  ...   \n",
       "4               0.691919        -0.544766  ...   \n",
       "\n",
       "   employment_occupation_rcertsgn  employment_occupation_tfqavkke  \\\n",
       "0                             0.0                             0.0   \n",
       "1                             0.0                             0.0   \n",
       "2                             0.0                             0.0   \n",
       "3                             0.0                             0.0   \n",
       "4                             0.0                             0.0   \n",
       "\n",
       "   employment_occupation_ukymxvdu  employment_occupation_uqqtjvyb  \\\n",
       "0                             0.0                             0.0   \n",
       "1                             0.0                             0.0   \n",
       "2                             0.0                             0.0   \n",
       "3                             0.0                             0.0   \n",
       "4                             0.0                             0.0   \n",
       "\n",
       "   employment_occupation_vlluhbov  employment_occupation_xgwztkwe  \\\n",
       "0                             0.0                             0.0   \n",
       "1                             0.0                             1.0   \n",
       "2                             0.0                             0.0   \n",
       "3                             0.0                             0.0   \n",
       "4                             0.0                             0.0   \n",
       "\n",
       "   employment_occupation_xqwwgdyp  employment_occupation_xtkaffoo  \\\n",
       "0                             0.0                             0.0   \n",
       "1                             0.0                             0.0   \n",
       "2                             0.0                             1.0   \n",
       "3                             0.0                             0.0   \n",
       "4                             0.0                             0.0   \n",
       "\n",
       "   employment_occupation_xzmlyyjv  employment_occupation_nan  \n",
       "0                             0.0                        1.0  \n",
       "1                             0.0                        0.0  \n",
       "2                             0.0                        0.0  \n",
       "3                             0.0                        1.0  \n",
       "4                             0.0                        0.0  \n",
       "\n",
       "[5 rows x 85 columns]"
      ]
     },
     "execution_count": 161,
     "metadata": {},
     "output_type": "execute_result"
    }
   ],
   "source": [
    "train_features.head()"
   ]
  },
  {
   "cell_type": "code",
   "execution_count": 236,
   "id": "e788abf4",
   "metadata": {},
   "outputs": [],
   "source": [
    "train_features.drop('health_insurance', inplace=True, axis=1)"
   ]
  },
  {
   "cell_type": "code",
   "execution_count": 237,
   "id": "014bbcf5",
   "metadata": {},
   "outputs": [],
   "source": [
    "test_df.drop('health_insurance', inplace=True, axis=1)"
   ]
  },
  {
   "cell_type": "code",
   "execution_count": 239,
   "id": "e382a18a",
   "metadata": {},
   "outputs": [
    {
     "data": {
      "text/plain": [
       "(26707, 32)"
      ]
     },
     "execution_count": 239,
     "metadata": {},
     "output_type": "execute_result"
    }
   ],
   "source": [
    "train_features.shape"
   ]
  },
  {
   "cell_type": "code",
   "execution_count": null,
   "id": "4bd98f88",
   "metadata": {},
   "outputs": [],
   "source": []
  },
  {
   "cell_type": "code",
   "execution_count": 154,
   "id": "b373ed0a",
   "metadata": {},
   "outputs": [],
   "source": []
  },
  {
   "cell_type": "code",
   "execution_count": 155,
   "id": "8876989e",
   "metadata": {},
   "outputs": [],
   "source": []
  },
  {
   "cell_type": "code",
   "execution_count": 209,
   "id": "82c4ea77",
   "metadata": {},
   "outputs": [
    {
     "data": {
      "text/plain": [
       "(26707, 33)"
      ]
     },
     "execution_count": 209,
     "metadata": {},
     "output_type": "execute_result"
    }
   ],
   "source": [
    "train_features.shape"
   ]
  },
  {
   "cell_type": "code",
   "execution_count": 214,
   "id": "541003eb",
   "metadata": {},
   "outputs": [
    {
     "data": {
      "text/plain": [
       "array([[0.89543747, 0.10456253],\n",
       "       [0.91648419, 0.08351581],\n",
       "       [0.56795998, 0.43204002],\n",
       "       ...,\n",
       "       [0.72485048, 0.27514952],\n",
       "       [0.96669475, 0.03330525],\n",
       "       [0.37887594, 0.62112406]])"
      ]
     },
     "execution_count": 214,
     "metadata": {},
     "output_type": "execute_result"
    }
   ],
   "source": []
  },
  {
   "cell_type": "code",
   "execution_count": 242,
   "id": "c01ecef8",
   "metadata": {},
   "outputs": [],
   "source": [
    "model = LogisticRegression(solver='liblinear',C=1, penalty= 'l2')"
   ]
  },
  {
   "cell_type": "code",
   "execution_count": 243,
   "id": "355757fd",
   "metadata": {},
   "outputs": [
    {
     "data": {
      "text/html": [
       "<style>#sk-container-id-6 {color: black;background-color: white;}#sk-container-id-6 pre{padding: 0;}#sk-container-id-6 div.sk-toggleable {background-color: white;}#sk-container-id-6 label.sk-toggleable__label {cursor: pointer;display: block;width: 100%;margin-bottom: 0;padding: 0.3em;box-sizing: border-box;text-align: center;}#sk-container-id-6 label.sk-toggleable__label-arrow:before {content: \"▸\";float: left;margin-right: 0.25em;color: #696969;}#sk-container-id-6 label.sk-toggleable__label-arrow:hover:before {color: black;}#sk-container-id-6 div.sk-estimator:hover label.sk-toggleable__label-arrow:before {color: black;}#sk-container-id-6 div.sk-toggleable__content {max-height: 0;max-width: 0;overflow: hidden;text-align: left;background-color: #f0f8ff;}#sk-container-id-6 div.sk-toggleable__content pre {margin: 0.2em;color: black;border-radius: 0.25em;background-color: #f0f8ff;}#sk-container-id-6 input.sk-toggleable__control:checked~div.sk-toggleable__content {max-height: 200px;max-width: 100%;overflow: auto;}#sk-container-id-6 input.sk-toggleable__control:checked~label.sk-toggleable__label-arrow:before {content: \"▾\";}#sk-container-id-6 div.sk-estimator input.sk-toggleable__control:checked~label.sk-toggleable__label {background-color: #d4ebff;}#sk-container-id-6 div.sk-label input.sk-toggleable__control:checked~label.sk-toggleable__label {background-color: #d4ebff;}#sk-container-id-6 input.sk-hidden--visually {border: 0;clip: rect(1px 1px 1px 1px);clip: rect(1px, 1px, 1px, 1px);height: 1px;margin: -1px;overflow: hidden;padding: 0;position: absolute;width: 1px;}#sk-container-id-6 div.sk-estimator {font-family: monospace;background-color: #f0f8ff;border: 1px dotted black;border-radius: 0.25em;box-sizing: border-box;margin-bottom: 0.5em;}#sk-container-id-6 div.sk-estimator:hover {background-color: #d4ebff;}#sk-container-id-6 div.sk-parallel-item::after {content: \"\";width: 100%;border-bottom: 1px solid gray;flex-grow: 1;}#sk-container-id-6 div.sk-label:hover label.sk-toggleable__label {background-color: #d4ebff;}#sk-container-id-6 div.sk-serial::before {content: \"\";position: absolute;border-left: 1px solid gray;box-sizing: border-box;top: 0;bottom: 0;left: 50%;z-index: 0;}#sk-container-id-6 div.sk-serial {display: flex;flex-direction: column;align-items: center;background-color: white;padding-right: 0.2em;padding-left: 0.2em;position: relative;}#sk-container-id-6 div.sk-item {position: relative;z-index: 1;}#sk-container-id-6 div.sk-parallel {display: flex;align-items: stretch;justify-content: center;background-color: white;position: relative;}#sk-container-id-6 div.sk-item::before, #sk-container-id-6 div.sk-parallel-item::before {content: \"\";position: absolute;border-left: 1px solid gray;box-sizing: border-box;top: 0;bottom: 0;left: 50%;z-index: -1;}#sk-container-id-6 div.sk-parallel-item {display: flex;flex-direction: column;z-index: 1;position: relative;background-color: white;}#sk-container-id-6 div.sk-parallel-item:first-child::after {align-self: flex-end;width: 50%;}#sk-container-id-6 div.sk-parallel-item:last-child::after {align-self: flex-start;width: 50%;}#sk-container-id-6 div.sk-parallel-item:only-child::after {width: 0;}#sk-container-id-6 div.sk-dashed-wrapped {border: 1px dashed gray;margin: 0 0.4em 0.5em 0.4em;box-sizing: border-box;padding-bottom: 0.4em;background-color: white;}#sk-container-id-6 div.sk-label label {font-family: monospace;font-weight: bold;display: inline-block;line-height: 1.2em;}#sk-container-id-6 div.sk-label-container {text-align: center;}#sk-container-id-6 div.sk-container {/* jupyter's `normalize.less` sets `[hidden] { display: none; }` but bootstrap.min.css set `[hidden] { display: none !important; }` so we also need the `!important` here to be able to override the default hidden behavior on the sphinx rendered scikit-learn.org. See: https://github.com/scikit-learn/scikit-learn/issues/21755 */display: inline-block !important;position: relative;}#sk-container-id-6 div.sk-text-repr-fallback {display: none;}</style><div id=\"sk-container-id-6\" class=\"sk-top-container\"><div class=\"sk-text-repr-fallback\"><pre>LogisticRegression(C=1, solver=&#x27;liblinear&#x27;)</pre><b>In a Jupyter environment, please rerun this cell to show the HTML representation or trust the notebook. <br />On GitHub, the HTML representation is unable to render, please try loading this page with nbviewer.org.</b></div><div class=\"sk-container\" hidden><div class=\"sk-item\"><div class=\"sk-estimator sk-toggleable\"><input class=\"sk-toggleable__control sk-hidden--visually\" id=\"sk-estimator-id-6\" type=\"checkbox\" checked><label for=\"sk-estimator-id-6\" class=\"sk-toggleable__label sk-toggleable__label-arrow\">LogisticRegression</label><div class=\"sk-toggleable__content\"><pre>LogisticRegression(C=1, solver=&#x27;liblinear&#x27;)</pre></div></div></div></div></div>"
      ],
      "text/plain": [
       "LogisticRegression(C=1, solver='liblinear')"
      ]
     },
     "execution_count": 243,
     "metadata": {},
     "output_type": "execute_result"
    }
   ],
   "source": [
    "model.fit(train_features, train_xyz)"
   ]
  },
  {
   "cell_type": "code",
   "execution_count": 244,
   "id": "1d7dd96f",
   "metadata": {},
   "outputs": [],
   "source": [
    "train_xyz = train_label.xyz_vaccine\n",
    "train_seasonal = train_label.seasonal_vaccine"
   ]
  },
  {
   "cell_type": "code",
   "execution_count": 245,
   "id": "fd54173a",
   "metadata": {},
   "outputs": [],
   "source": [
    "prediction_xyz = model.predict_proba(test_df)"
   ]
  },
  {
   "cell_type": "code",
   "execution_count": 246,
   "id": "24e7b78f",
   "metadata": {},
   "outputs": [
    {
     "data": {
      "text/html": [
       "<style>#sk-container-id-7 {color: black;background-color: white;}#sk-container-id-7 pre{padding: 0;}#sk-container-id-7 div.sk-toggleable {background-color: white;}#sk-container-id-7 label.sk-toggleable__label {cursor: pointer;display: block;width: 100%;margin-bottom: 0;padding: 0.3em;box-sizing: border-box;text-align: center;}#sk-container-id-7 label.sk-toggleable__label-arrow:before {content: \"▸\";float: left;margin-right: 0.25em;color: #696969;}#sk-container-id-7 label.sk-toggleable__label-arrow:hover:before {color: black;}#sk-container-id-7 div.sk-estimator:hover label.sk-toggleable__label-arrow:before {color: black;}#sk-container-id-7 div.sk-toggleable__content {max-height: 0;max-width: 0;overflow: hidden;text-align: left;background-color: #f0f8ff;}#sk-container-id-7 div.sk-toggleable__content pre {margin: 0.2em;color: black;border-radius: 0.25em;background-color: #f0f8ff;}#sk-container-id-7 input.sk-toggleable__control:checked~div.sk-toggleable__content {max-height: 200px;max-width: 100%;overflow: auto;}#sk-container-id-7 input.sk-toggleable__control:checked~label.sk-toggleable__label-arrow:before {content: \"▾\";}#sk-container-id-7 div.sk-estimator input.sk-toggleable__control:checked~label.sk-toggleable__label {background-color: #d4ebff;}#sk-container-id-7 div.sk-label input.sk-toggleable__control:checked~label.sk-toggleable__label {background-color: #d4ebff;}#sk-container-id-7 input.sk-hidden--visually {border: 0;clip: rect(1px 1px 1px 1px);clip: rect(1px, 1px, 1px, 1px);height: 1px;margin: -1px;overflow: hidden;padding: 0;position: absolute;width: 1px;}#sk-container-id-7 div.sk-estimator {font-family: monospace;background-color: #f0f8ff;border: 1px dotted black;border-radius: 0.25em;box-sizing: border-box;margin-bottom: 0.5em;}#sk-container-id-7 div.sk-estimator:hover {background-color: #d4ebff;}#sk-container-id-7 div.sk-parallel-item::after {content: \"\";width: 100%;border-bottom: 1px solid gray;flex-grow: 1;}#sk-container-id-7 div.sk-label:hover label.sk-toggleable__label {background-color: #d4ebff;}#sk-container-id-7 div.sk-serial::before {content: \"\";position: absolute;border-left: 1px solid gray;box-sizing: border-box;top: 0;bottom: 0;left: 50%;z-index: 0;}#sk-container-id-7 div.sk-serial {display: flex;flex-direction: column;align-items: center;background-color: white;padding-right: 0.2em;padding-left: 0.2em;position: relative;}#sk-container-id-7 div.sk-item {position: relative;z-index: 1;}#sk-container-id-7 div.sk-parallel {display: flex;align-items: stretch;justify-content: center;background-color: white;position: relative;}#sk-container-id-7 div.sk-item::before, #sk-container-id-7 div.sk-parallel-item::before {content: \"\";position: absolute;border-left: 1px solid gray;box-sizing: border-box;top: 0;bottom: 0;left: 50%;z-index: -1;}#sk-container-id-7 div.sk-parallel-item {display: flex;flex-direction: column;z-index: 1;position: relative;background-color: white;}#sk-container-id-7 div.sk-parallel-item:first-child::after {align-self: flex-end;width: 50%;}#sk-container-id-7 div.sk-parallel-item:last-child::after {align-self: flex-start;width: 50%;}#sk-container-id-7 div.sk-parallel-item:only-child::after {width: 0;}#sk-container-id-7 div.sk-dashed-wrapped {border: 1px dashed gray;margin: 0 0.4em 0.5em 0.4em;box-sizing: border-box;padding-bottom: 0.4em;background-color: white;}#sk-container-id-7 div.sk-label label {font-family: monospace;font-weight: bold;display: inline-block;line-height: 1.2em;}#sk-container-id-7 div.sk-label-container {text-align: center;}#sk-container-id-7 div.sk-container {/* jupyter's `normalize.less` sets `[hidden] { display: none; }` but bootstrap.min.css set `[hidden] { display: none !important; }` so we also need the `!important` here to be able to override the default hidden behavior on the sphinx rendered scikit-learn.org. See: https://github.com/scikit-learn/scikit-learn/issues/21755 */display: inline-block !important;position: relative;}#sk-container-id-7 div.sk-text-repr-fallback {display: none;}</style><div id=\"sk-container-id-7\" class=\"sk-top-container\"><div class=\"sk-text-repr-fallback\"><pre>LogisticRegression(C=1, solver=&#x27;liblinear&#x27;)</pre><b>In a Jupyter environment, please rerun this cell to show the HTML representation or trust the notebook. <br />On GitHub, the HTML representation is unable to render, please try loading this page with nbviewer.org.</b></div><div class=\"sk-container\" hidden><div class=\"sk-item\"><div class=\"sk-estimator sk-toggleable\"><input class=\"sk-toggleable__control sk-hidden--visually\" id=\"sk-estimator-id-7\" type=\"checkbox\" checked><label for=\"sk-estimator-id-7\" class=\"sk-toggleable__label sk-toggleable__label-arrow\">LogisticRegression</label><div class=\"sk-toggleable__content\"><pre>LogisticRegression(C=1, solver=&#x27;liblinear&#x27;)</pre></div></div></div></div></div>"
      ],
      "text/plain": [
       "LogisticRegression(C=1, solver='liblinear')"
      ]
     },
     "execution_count": 246,
     "metadata": {},
     "output_type": "execute_result"
    }
   ],
   "source": [
    "model.fit(train_features, train_seasonal)"
   ]
  },
  {
   "cell_type": "code",
   "execution_count": 247,
   "id": "7b0b4041",
   "metadata": {},
   "outputs": [],
   "source": [
    "prediction_seasonal = model.predict_proba(test_df)"
   ]
  },
  {
   "cell_type": "code",
   "execution_count": 248,
   "id": "bd735f38",
   "metadata": {},
   "outputs": [
    {
     "name": "stdout",
     "output_type": "stream",
     "text": [
      "y_preds.shape: (26707, 2)\n"
     ]
    },
    {
     "data": {
      "text/html": [
       "<div>\n",
       "<style scoped>\n",
       "    .dataframe tbody tr th:only-of-type {\n",
       "        vertical-align: middle;\n",
       "    }\n",
       "\n",
       "    .dataframe tbody tr th {\n",
       "        vertical-align: top;\n",
       "    }\n",
       "\n",
       "    .dataframe thead th {\n",
       "        text-align: right;\n",
       "    }\n",
       "</style>\n",
       "<table border=\"1\" class=\"dataframe\">\n",
       "  <thead>\n",
       "    <tr style=\"text-align: right;\">\n",
       "      <th></th>\n",
       "      <th>xyz_vaccine</th>\n",
       "      <th>seasonal_vaccine</th>\n",
       "    </tr>\n",
       "  </thead>\n",
       "  <tbody>\n",
       "    <tr>\n",
       "      <th>1</th>\n",
       "      <td>0.124951</td>\n",
       "      <td>0.078869</td>\n",
       "    </tr>\n",
       "    <tr>\n",
       "      <th>2</th>\n",
       "      <td>0.410309</td>\n",
       "      <td>0.614514</td>\n",
       "    </tr>\n",
       "    <tr>\n",
       "      <th>3</th>\n",
       "      <td>0.322301</td>\n",
       "      <td>0.822006</td>\n",
       "    </tr>\n",
       "    <tr>\n",
       "      <th>4</th>\n",
       "      <td>0.092135</td>\n",
       "      <td>0.328922</td>\n",
       "    </tr>\n",
       "    <tr>\n",
       "      <th>5</th>\n",
       "      <td>0.493502</td>\n",
       "      <td>0.882455</td>\n",
       "    </tr>\n",
       "    <tr>\n",
       "      <th>...</th>\n",
       "      <td>...</td>\n",
       "      <td>...</td>\n",
       "    </tr>\n",
       "    <tr>\n",
       "      <th>26702</th>\n",
       "      <td>0.034359</td>\n",
       "      <td>0.132787</td>\n",
       "    </tr>\n",
       "    <tr>\n",
       "      <th>26703</th>\n",
       "      <td>0.462094</td>\n",
       "      <td>0.389243</td>\n",
       "    </tr>\n",
       "    <tr>\n",
       "      <th>26704</th>\n",
       "      <td>0.185832</td>\n",
       "      <td>0.449000</td>\n",
       "    </tr>\n",
       "    <tr>\n",
       "      <th>26705</th>\n",
       "      <td>0.253034</td>\n",
       "      <td>0.273525</td>\n",
       "    </tr>\n",
       "    <tr>\n",
       "      <th>26706</th>\n",
       "      <td>0.030442</td>\n",
       "      <td>0.261628</td>\n",
       "    </tr>\n",
       "  </tbody>\n",
       "</table>\n",
       "<p>26706 rows × 2 columns</p>\n",
       "</div>"
      ],
      "text/plain": [
       "       xyz_vaccine  seasonal_vaccine\n",
       "1         0.124951          0.078869\n",
       "2         0.410309          0.614514\n",
       "3         0.322301          0.822006\n",
       "4         0.092135          0.328922\n",
       "5         0.493502          0.882455\n",
       "...            ...               ...\n",
       "26702     0.034359          0.132787\n",
       "26703     0.462094          0.389243\n",
       "26704     0.185832          0.449000\n",
       "26705     0.253034          0.273525\n",
       "26706     0.030442          0.261628\n",
       "\n",
       "[26706 rows x 2 columns]"
      ]
     },
     "execution_count": 248,
     "metadata": {},
     "output_type": "execute_result"
    }
   ],
   "source": [
    "y_preds = pd.DataFrame(\n",
    "    {\n",
    "        \"xyz_vaccine\": prediction_xyz[:,1],\n",
    "        \"seasonal_vaccine\": prediction_seasonal[:,1],\n",
    "    })\n",
    "    \n",
    "print(\"y_preds.shape:\", y_preds.shape)\n",
    "y_preds = y_preds[1:]\n",
    "y_preds"
   ]
  },
  {
   "cell_type": "code",
   "execution_count": 168,
   "id": "2b32e1a9",
   "metadata": {},
   "outputs": [],
   "source": [
    "train_features.drop(['employment_industry','employment_occupation'], inplace=True, axis=1)"
   ]
  },
  {
   "cell_type": "code",
   "execution_count": 169,
   "id": "0c83766a",
   "metadata": {},
   "outputs": [],
   "source": [
    "test_df.drop(['employment_industry','employment_occupation'],inplace=True, axis=1)"
   ]
  },
  {
   "cell_type": "code",
   "execution_count": 170,
   "id": "85698408",
   "metadata": {},
   "outputs": [
    {
     "data": {
      "text/plain": [
       "array(['Below Poverty', '<= $75,000, Above Poverty', '> $75,000', nan],\n",
       "      dtype=object)"
      ]
     },
     "execution_count": 170,
     "metadata": {},
     "output_type": "execute_result"
    }
   ],
   "source": [
    "train_features.income_poverty.unique()"
   ]
  },
  {
   "cell_type": "code",
   "execution_count": 172,
   "id": "8f5af5eb",
   "metadata": {},
   "outputs": [],
   "source": [
    "train_features['income_poverty'].fillna('Missing',inplace=True)"
   ]
  },
  {
   "cell_type": "code",
   "execution_count": 224,
   "id": "84e53eed",
   "metadata": {},
   "outputs": [],
   "source": [
    "train_features.drop([''], inplace=True, axis=1)"
   ]
  },
  {
   "cell_type": "code",
   "execution_count": 240,
   "id": "4c135811",
   "metadata": {},
   "outputs": [],
   "source": [
    "test_df.drop(test_df.tail(1).index,inplace=True)"
   ]
  },
  {
   "cell_type": "code",
   "execution_count": 252,
   "id": "75f82226",
   "metadata": {},
   "outputs": [
    {
     "data": {
      "text/plain": [
       "0.5664806979443592"
      ]
     },
     "execution_count": 252,
     "metadata": {},
     "output_type": "execute_result"
    }
   ],
   "source": [
    "model.score(test_df,train_xyz)"
   ]
  },
  {
   "cell_type": "code",
   "execution_count": 251,
   "id": "9cdd2700",
   "metadata": {},
   "outputs": [
    {
     "data": {
      "text/plain": [
       "0.506608754259183"
      ]
     },
     "execution_count": 251,
     "metadata": {},
     "output_type": "execute_result"
    }
   ],
   "source": [
    "model.score(test_df,train_seasonal)"
   ]
  },
  {
   "cell_type": "code",
   "execution_count": 253,
   "id": "88b00ec4",
   "metadata": {},
   "outputs": [],
   "source": [
    "from sklearn.feature_selection import SelectKBest,f_classif"
   ]
  },
  {
   "cell_type": "code",
   "execution_count": 297,
   "id": "343b5c5c",
   "metadata": {},
   "outputs": [
    {
     "name": "stdout",
     "output_type": "stream",
     "text": [
      "Selected Features : \n",
      "1.xyz_concern\n",
      "2.xyz_knowledge\n",
      "3.behavioral_antiviral_meds\n",
      "4.behavioral_avoidance\n",
      "5.behavioral_face_mask\n",
      "6.behavioral_wash_hands\n",
      "7.behavioral_touch_face\n",
      "8.doctor_recc_xyz\n",
      "9.doctor_recc_seasonal\n",
      "10.chronic_med_condition\n",
      "11.child_under_6_months\n",
      "12.health_worker\n",
      "13.opinion_xyz_vacc_effective\n",
      "14.opinion_xyz_risk\n",
      "15.opinion_xyz_sick_from_vacc\n",
      "16.opinion_seas_vacc_effective\n",
      "17.opinion_seas_risk\n",
      "18.education\n",
      "19.marital_status\n",
      "20.rent_or_own\n"
     ]
    }
   ],
   "source": [
    "selector = SelectKBest(score_func = f_classif,k=20)\n",
    "X_selected = selector.fit_transform(train_features,train_xyz)\n",
    "select_indices = selector.get_support(indices=True)\n",
    "selected_features = train_features.columns[select_indices]\n",
    "print('Selected Features : ')\n",
    "\n",
    "for i,feature in enumerate(selected_features):\n",
    "    print(f\"{i+1}.{feature}\")"
   ]
  },
  {
   "cell_type": "code",
   "execution_count": 298,
   "id": "1532dd41",
   "metadata": {},
   "outputs": [],
   "source": [
    "new_train_df = train_features[selected_features]"
   ]
  },
  {
   "cell_type": "code",
   "execution_count": 299,
   "id": "11fe351d",
   "metadata": {},
   "outputs": [],
   "source": [
    "new_test_df = test_df[selected_features]\n"
   ]
  },
  {
   "cell_type": "code",
   "execution_count": 300,
   "id": "e9d6cf4c",
   "metadata": {},
   "outputs": [],
   "source": [
    "model = LogisticRegression(solver='liblinear',C=1, penalty= 'l2')"
   ]
  },
  {
   "cell_type": "code",
   "execution_count": 301,
   "id": "1ad10393",
   "metadata": {},
   "outputs": [
    {
     "data": {
      "text/html": [
       "<style>#sk-container-id-14 {color: black;background-color: white;}#sk-container-id-14 pre{padding: 0;}#sk-container-id-14 div.sk-toggleable {background-color: white;}#sk-container-id-14 label.sk-toggleable__label {cursor: pointer;display: block;width: 100%;margin-bottom: 0;padding: 0.3em;box-sizing: border-box;text-align: center;}#sk-container-id-14 label.sk-toggleable__label-arrow:before {content: \"▸\";float: left;margin-right: 0.25em;color: #696969;}#sk-container-id-14 label.sk-toggleable__label-arrow:hover:before {color: black;}#sk-container-id-14 div.sk-estimator:hover label.sk-toggleable__label-arrow:before {color: black;}#sk-container-id-14 div.sk-toggleable__content {max-height: 0;max-width: 0;overflow: hidden;text-align: left;background-color: #f0f8ff;}#sk-container-id-14 div.sk-toggleable__content pre {margin: 0.2em;color: black;border-radius: 0.25em;background-color: #f0f8ff;}#sk-container-id-14 input.sk-toggleable__control:checked~div.sk-toggleable__content {max-height: 200px;max-width: 100%;overflow: auto;}#sk-container-id-14 input.sk-toggleable__control:checked~label.sk-toggleable__label-arrow:before {content: \"▾\";}#sk-container-id-14 div.sk-estimator input.sk-toggleable__control:checked~label.sk-toggleable__label {background-color: #d4ebff;}#sk-container-id-14 div.sk-label input.sk-toggleable__control:checked~label.sk-toggleable__label {background-color: #d4ebff;}#sk-container-id-14 input.sk-hidden--visually {border: 0;clip: rect(1px 1px 1px 1px);clip: rect(1px, 1px, 1px, 1px);height: 1px;margin: -1px;overflow: hidden;padding: 0;position: absolute;width: 1px;}#sk-container-id-14 div.sk-estimator {font-family: monospace;background-color: #f0f8ff;border: 1px dotted black;border-radius: 0.25em;box-sizing: border-box;margin-bottom: 0.5em;}#sk-container-id-14 div.sk-estimator:hover {background-color: #d4ebff;}#sk-container-id-14 div.sk-parallel-item::after {content: \"\";width: 100%;border-bottom: 1px solid gray;flex-grow: 1;}#sk-container-id-14 div.sk-label:hover label.sk-toggleable__label {background-color: #d4ebff;}#sk-container-id-14 div.sk-serial::before {content: \"\";position: absolute;border-left: 1px solid gray;box-sizing: border-box;top: 0;bottom: 0;left: 50%;z-index: 0;}#sk-container-id-14 div.sk-serial {display: flex;flex-direction: column;align-items: center;background-color: white;padding-right: 0.2em;padding-left: 0.2em;position: relative;}#sk-container-id-14 div.sk-item {position: relative;z-index: 1;}#sk-container-id-14 div.sk-parallel {display: flex;align-items: stretch;justify-content: center;background-color: white;position: relative;}#sk-container-id-14 div.sk-item::before, #sk-container-id-14 div.sk-parallel-item::before {content: \"\";position: absolute;border-left: 1px solid gray;box-sizing: border-box;top: 0;bottom: 0;left: 50%;z-index: -1;}#sk-container-id-14 div.sk-parallel-item {display: flex;flex-direction: column;z-index: 1;position: relative;background-color: white;}#sk-container-id-14 div.sk-parallel-item:first-child::after {align-self: flex-end;width: 50%;}#sk-container-id-14 div.sk-parallel-item:last-child::after {align-self: flex-start;width: 50%;}#sk-container-id-14 div.sk-parallel-item:only-child::after {width: 0;}#sk-container-id-14 div.sk-dashed-wrapped {border: 1px dashed gray;margin: 0 0.4em 0.5em 0.4em;box-sizing: border-box;padding-bottom: 0.4em;background-color: white;}#sk-container-id-14 div.sk-label label {font-family: monospace;font-weight: bold;display: inline-block;line-height: 1.2em;}#sk-container-id-14 div.sk-label-container {text-align: center;}#sk-container-id-14 div.sk-container {/* jupyter's `normalize.less` sets `[hidden] { display: none; }` but bootstrap.min.css set `[hidden] { display: none !important; }` so we also need the `!important` here to be able to override the default hidden behavior on the sphinx rendered scikit-learn.org. See: https://github.com/scikit-learn/scikit-learn/issues/21755 */display: inline-block !important;position: relative;}#sk-container-id-14 div.sk-text-repr-fallback {display: none;}</style><div id=\"sk-container-id-14\" class=\"sk-top-container\"><div class=\"sk-text-repr-fallback\"><pre>LogisticRegression(C=1, solver=&#x27;liblinear&#x27;)</pre><b>In a Jupyter environment, please rerun this cell to show the HTML representation or trust the notebook. <br />On GitHub, the HTML representation is unable to render, please try loading this page with nbviewer.org.</b></div><div class=\"sk-container\" hidden><div class=\"sk-item\"><div class=\"sk-estimator sk-toggleable\"><input class=\"sk-toggleable__control sk-hidden--visually\" id=\"sk-estimator-id-14\" type=\"checkbox\" checked><label for=\"sk-estimator-id-14\" class=\"sk-toggleable__label sk-toggleable__label-arrow\">LogisticRegression</label><div class=\"sk-toggleable__content\"><pre>LogisticRegression(C=1, solver=&#x27;liblinear&#x27;)</pre></div></div></div></div></div>"
      ],
      "text/plain": [
       "LogisticRegression(C=1, solver='liblinear')"
      ]
     },
     "execution_count": 301,
     "metadata": {},
     "output_type": "execute_result"
    }
   ],
   "source": [
    "model.fit(new_train_df, train_xyz)"
   ]
  },
  {
   "cell_type": "code",
   "execution_count": 302,
   "id": "1ad1673f",
   "metadata": {},
   "outputs": [],
   "source": [
    "prediction_xyz = model.predict_proba(new_test_df)"
   ]
  },
  {
   "cell_type": "code",
   "execution_count": 303,
   "id": "974e52c3",
   "metadata": {},
   "outputs": [
    {
     "data": {
      "text/plain": [
       "0.7206350395027521"
      ]
     },
     "execution_count": 303,
     "metadata": {},
     "output_type": "execute_result"
    }
   ],
   "source": [
    "model.score(new_test_df,train_xyz)"
   ]
  },
  {
   "cell_type": "code",
   "execution_count": 308,
   "id": "3c2906dc",
   "metadata": {},
   "outputs": [
    {
     "data": {
      "text/html": [
       "<style>#sk-container-id-16 {color: black;background-color: white;}#sk-container-id-16 pre{padding: 0;}#sk-container-id-16 div.sk-toggleable {background-color: white;}#sk-container-id-16 label.sk-toggleable__label {cursor: pointer;display: block;width: 100%;margin-bottom: 0;padding: 0.3em;box-sizing: border-box;text-align: center;}#sk-container-id-16 label.sk-toggleable__label-arrow:before {content: \"▸\";float: left;margin-right: 0.25em;color: #696969;}#sk-container-id-16 label.sk-toggleable__label-arrow:hover:before {color: black;}#sk-container-id-16 div.sk-estimator:hover label.sk-toggleable__label-arrow:before {color: black;}#sk-container-id-16 div.sk-toggleable__content {max-height: 0;max-width: 0;overflow: hidden;text-align: left;background-color: #f0f8ff;}#sk-container-id-16 div.sk-toggleable__content pre {margin: 0.2em;color: black;border-radius: 0.25em;background-color: #f0f8ff;}#sk-container-id-16 input.sk-toggleable__control:checked~div.sk-toggleable__content {max-height: 200px;max-width: 100%;overflow: auto;}#sk-container-id-16 input.sk-toggleable__control:checked~label.sk-toggleable__label-arrow:before {content: \"▾\";}#sk-container-id-16 div.sk-estimator input.sk-toggleable__control:checked~label.sk-toggleable__label {background-color: #d4ebff;}#sk-container-id-16 div.sk-label input.sk-toggleable__control:checked~label.sk-toggleable__label {background-color: #d4ebff;}#sk-container-id-16 input.sk-hidden--visually {border: 0;clip: rect(1px 1px 1px 1px);clip: rect(1px, 1px, 1px, 1px);height: 1px;margin: -1px;overflow: hidden;padding: 0;position: absolute;width: 1px;}#sk-container-id-16 div.sk-estimator {font-family: monospace;background-color: #f0f8ff;border: 1px dotted black;border-radius: 0.25em;box-sizing: border-box;margin-bottom: 0.5em;}#sk-container-id-16 div.sk-estimator:hover {background-color: #d4ebff;}#sk-container-id-16 div.sk-parallel-item::after {content: \"\";width: 100%;border-bottom: 1px solid gray;flex-grow: 1;}#sk-container-id-16 div.sk-label:hover label.sk-toggleable__label {background-color: #d4ebff;}#sk-container-id-16 div.sk-serial::before {content: \"\";position: absolute;border-left: 1px solid gray;box-sizing: border-box;top: 0;bottom: 0;left: 50%;z-index: 0;}#sk-container-id-16 div.sk-serial {display: flex;flex-direction: column;align-items: center;background-color: white;padding-right: 0.2em;padding-left: 0.2em;position: relative;}#sk-container-id-16 div.sk-item {position: relative;z-index: 1;}#sk-container-id-16 div.sk-parallel {display: flex;align-items: stretch;justify-content: center;background-color: white;position: relative;}#sk-container-id-16 div.sk-item::before, #sk-container-id-16 div.sk-parallel-item::before {content: \"\";position: absolute;border-left: 1px solid gray;box-sizing: border-box;top: 0;bottom: 0;left: 50%;z-index: -1;}#sk-container-id-16 div.sk-parallel-item {display: flex;flex-direction: column;z-index: 1;position: relative;background-color: white;}#sk-container-id-16 div.sk-parallel-item:first-child::after {align-self: flex-end;width: 50%;}#sk-container-id-16 div.sk-parallel-item:last-child::after {align-self: flex-start;width: 50%;}#sk-container-id-16 div.sk-parallel-item:only-child::after {width: 0;}#sk-container-id-16 div.sk-dashed-wrapped {border: 1px dashed gray;margin: 0 0.4em 0.5em 0.4em;box-sizing: border-box;padding-bottom: 0.4em;background-color: white;}#sk-container-id-16 div.sk-label label {font-family: monospace;font-weight: bold;display: inline-block;line-height: 1.2em;}#sk-container-id-16 div.sk-label-container {text-align: center;}#sk-container-id-16 div.sk-container {/* jupyter's `normalize.less` sets `[hidden] { display: none; }` but bootstrap.min.css set `[hidden] { display: none !important; }` so we also need the `!important` here to be able to override the default hidden behavior on the sphinx rendered scikit-learn.org. See: https://github.com/scikit-learn/scikit-learn/issues/21755 */display: inline-block !important;position: relative;}#sk-container-id-16 div.sk-text-repr-fallback {display: none;}</style><div id=\"sk-container-id-16\" class=\"sk-top-container\"><div class=\"sk-text-repr-fallback\"><pre>LogisticRegression(C=1, solver=&#x27;liblinear&#x27;)</pre><b>In a Jupyter environment, please rerun this cell to show the HTML representation or trust the notebook. <br />On GitHub, the HTML representation is unable to render, please try loading this page with nbviewer.org.</b></div><div class=\"sk-container\" hidden><div class=\"sk-item\"><div class=\"sk-estimator sk-toggleable\"><input class=\"sk-toggleable__control sk-hidden--visually\" id=\"sk-estimator-id-16\" type=\"checkbox\" checked><label for=\"sk-estimator-id-16\" class=\"sk-toggleable__label sk-toggleable__label-arrow\">LogisticRegression</label><div class=\"sk-toggleable__content\"><pre>LogisticRegression(C=1, solver=&#x27;liblinear&#x27;)</pre></div></div></div></div></div>"
      ],
      "text/plain": [
       "LogisticRegression(C=1, solver='liblinear')"
      ]
     },
     "execution_count": 308,
     "metadata": {},
     "output_type": "execute_result"
    }
   ],
   "source": [
    "model.fit(new_train_df, train_seasonal)"
   ]
  },
  {
   "cell_type": "code",
   "execution_count": 309,
   "id": "620f25db",
   "metadata": {},
   "outputs": [],
   "source": [
    "prediction_seasonal = model.predict_proba(new_test_df)"
   ]
  },
  {
   "cell_type": "code",
   "execution_count": 310,
   "id": "c0ca260b",
   "metadata": {},
   "outputs": [
    {
     "data": {
      "text/plain": [
       "0.5064589807915528"
      ]
     },
     "execution_count": 310,
     "metadata": {},
     "output_type": "execute_result"
    }
   ],
   "source": [
    "model.score(new_test_df,train_seasonal)"
   ]
  },
  {
   "cell_type": "code",
   "execution_count": 312,
   "id": "4f592e5f",
   "metadata": {},
   "outputs": [
    {
     "name": "stdout",
     "output_type": "stream",
     "text": [
      "y_preds.shape: (26707, 2)\n"
     ]
    },
    {
     "data": {
      "text/html": [
       "<div>\n",
       "<style scoped>\n",
       "    .dataframe tbody tr th:only-of-type {\n",
       "        vertical-align: middle;\n",
       "    }\n",
       "\n",
       "    .dataframe tbody tr th {\n",
       "        vertical-align: top;\n",
       "    }\n",
       "\n",
       "    .dataframe thead th {\n",
       "        text-align: right;\n",
       "    }\n",
       "</style>\n",
       "<table border=\"1\" class=\"dataframe\">\n",
       "  <thead>\n",
       "    <tr style=\"text-align: right;\">\n",
       "      <th></th>\n",
       "      <th>xyz_vaccine</th>\n",
       "      <th>seasonal_vaccine</th>\n",
       "    </tr>\n",
       "  </thead>\n",
       "  <tbody>\n",
       "    <tr>\n",
       "      <th>1</th>\n",
       "      <td>0.052978</td>\n",
       "      <td>0.103976</td>\n",
       "    </tr>\n",
       "    <tr>\n",
       "      <th>2</th>\n",
       "      <td>0.430925</td>\n",
       "      <td>0.624331</td>\n",
       "    </tr>\n",
       "    <tr>\n",
       "      <th>3</th>\n",
       "      <td>0.418867</td>\n",
       "      <td>0.695282</td>\n",
       "    </tr>\n",
       "    <tr>\n",
       "      <th>4</th>\n",
       "      <td>0.232230</td>\n",
       "      <td>0.386599</td>\n",
       "    </tr>\n",
       "    <tr>\n",
       "      <th>5</th>\n",
       "      <td>0.424711</td>\n",
       "      <td>0.836144</td>\n",
       "    </tr>\n",
       "    <tr>\n",
       "      <th>...</th>\n",
       "      <td>...</td>\n",
       "      <td>...</td>\n",
       "    </tr>\n",
       "    <tr>\n",
       "      <th>26702</th>\n",
       "      <td>0.064438</td>\n",
       "      <td>0.099395</td>\n",
       "    </tr>\n",
       "    <tr>\n",
       "      <th>26703</th>\n",
       "      <td>0.330977</td>\n",
       "      <td>0.469851</td>\n",
       "    </tr>\n",
       "    <tr>\n",
       "      <th>26704</th>\n",
       "      <td>0.113060</td>\n",
       "      <td>0.492927</td>\n",
       "    </tr>\n",
       "    <tr>\n",
       "      <th>26705</th>\n",
       "      <td>0.150116</td>\n",
       "      <td>0.235855</td>\n",
       "    </tr>\n",
       "    <tr>\n",
       "      <th>26706</th>\n",
       "      <td>0.036377</td>\n",
       "      <td>0.164687</td>\n",
       "    </tr>\n",
       "  </tbody>\n",
       "</table>\n",
       "<p>26706 rows × 2 columns</p>\n",
       "</div>"
      ],
      "text/plain": [
       "       xyz_vaccine  seasonal_vaccine\n",
       "1         0.052978          0.103976\n",
       "2         0.430925          0.624331\n",
       "3         0.418867          0.695282\n",
       "4         0.232230          0.386599\n",
       "5         0.424711          0.836144\n",
       "...            ...               ...\n",
       "26702     0.064438          0.099395\n",
       "26703     0.330977          0.469851\n",
       "26704     0.113060          0.492927\n",
       "26705     0.150116          0.235855\n",
       "26706     0.036377          0.164687\n",
       "\n",
       "[26706 rows x 2 columns]"
      ]
     },
     "execution_count": 312,
     "metadata": {},
     "output_type": "execute_result"
    }
   ],
   "source": [
    "y_preds = pd.DataFrame(\n",
    "    {\n",
    "        \"xyz_vaccine\": prediction_xyz[:,1],\n",
    "        \"seasonal_vaccine\": prediction_seasonal[:,1],\n",
    "    })\n",
    "    \n",
    "print(\"y_preds.shape:\", y_preds.shape)\n",
    "y_preds = y_preds[1:]\n",
    "y_preds"
   ]
  },
  {
   "cell_type": "code",
   "execution_count": 313,
   "id": "8fd06248",
   "metadata": {},
   "outputs": [],
   "source": [
    "y_preds.to_csv('final_output.csv')"
   ]
  },
  {
   "cell_type": "code",
   "execution_count": 320,
   "id": "5c9de387",
   "metadata": {},
   "outputs": [],
   "source": []
  },
  {
   "cell_type": "code",
   "execution_count": null,
   "id": "f33a76db",
   "metadata": {},
   "outputs": [],
   "source": []
  },
  {
   "cell_type": "code",
   "execution_count": 326,
   "id": "8a47ed5b",
   "metadata": {},
   "outputs": [
    {
     "data": {
      "text/plain": [
       "(26706, 2)"
      ]
     },
     "execution_count": 326,
     "metadata": {},
     "output_type": "execute_result"
    }
   ],
   "source": [
    "y_preds.shape"
   ]
  },
  {
   "cell_type": "code",
   "execution_count": 319,
   "id": "2032132f",
   "metadata": {},
   "outputs": [],
   "source": []
  },
  {
   "cell_type": "code",
   "execution_count": 323,
   "id": "190d96bf",
   "metadata": {},
   "outputs": [],
   "source": []
  },
  {
   "cell_type": "code",
   "execution_count": null,
   "id": "8b5f7a72",
   "metadata": {},
   "outputs": [],
   "source": []
  }
 ],
 "metadata": {
  "kernelspec": {
   "display_name": "Python 3 (ipykernel)",
   "language": "python",
   "name": "python3"
  },
  "language_info": {
   "codemirror_mode": {
    "name": "ipython",
    "version": 3
   },
   "file_extension": ".py",
   "mimetype": "text/x-python",
   "name": "python",
   "nbconvert_exporter": "python",
   "pygments_lexer": "ipython3",
   "version": "3.10.9"
  }
 },
 "nbformat": 4,
 "nbformat_minor": 5
}
